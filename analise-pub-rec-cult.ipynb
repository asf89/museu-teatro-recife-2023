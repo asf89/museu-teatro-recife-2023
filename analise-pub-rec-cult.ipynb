{
 "cells": [
  {
   "cell_type": "markdown",
   "metadata": {
    "id": "DcPX_3ALX11O"
   },
   "source": [
    "# **Público recebido nos equipamentos culturais públicos**"
   ]
  },
  {
   "cell_type": "markdown",
   "metadata": {
    "id": "3CWRQOmNXgYS"
   },
   "source": [
    "O presente projeto busca obter uma visão mais abrangente sobre o público que\n",
    "frequenta os equipamentos culturais do município de Recife."
   ]
  },
  {
   "cell_type": "markdown",
   "metadata": {
    "id": "ncY5_qSLYAJr"
   },
   "source": [
    "## **Dicionário de dados**"
   ]
  },
  {
   "cell_type": "markdown",
   "metadata": {
    "id": "4WvjXSRdYGhO"
   },
   "source": [
    "## **Importação das bibliotecas**"
   ]
  },
  {
   "cell_type": "code",
   "execution_count": 1,
   "metadata": {
    "executionInfo": {
     "elapsed": 8,
     "status": "ok",
     "timestamp": 1740492927040,
     "user": {
      "displayName": "André Ferreira",
      "userId": "00188573913287098100"
     },
     "user_tz": 180
    },
    "id": "bfUTQti2XKtU"
   },
   "outputs": [],
   "source": [
    "import pandas as pd\n",
    "import geopandas as gpd\n",
    "import numpy as np\n",
    "import matplotlib.pyplot as plt"
   ]
  },
  {
   "cell_type": "markdown",
   "metadata": {
    "id": "z7PTSkfxeTBr"
   },
   "source": [
    "## **Carregamento dos dados**"
   ]
  },
  {
   "cell_type": "code",
   "execution_count": 2,
   "metadata": {
    "executionInfo": {
     "elapsed": 2,
     "status": "ok",
     "timestamp": 1740492935924,
     "user": {
      "displayName": "André Ferreira",
      "userId": "00188573913287098100"
     },
     "user_tz": 180
    },
    "id": "3pU5qiQxYkVa"
   },
   "outputs": [],
   "source": [
    "DATAPATH = './data'"
   ]
  },
  {
   "cell_type": "code",
   "execution_count": 3,
   "metadata": {
    "executionInfo": {
     "elapsed": 2007,
     "status": "ok",
     "timestamp": 1740492937930,
     "user": {
      "displayName": "André Ferreira",
      "userId": "00188573913287098100"
     },
     "user_tz": 180
    },
    "id": "oaXRDfW3XV55"
   },
   "outputs": [],
   "source": [
    "df = pd.read_csv(f'{DATAPATH}/atendimento_secult.csv', sep=';')\n",
    "gdf = gpd.read_file(f'{DATAPATH}/bairros.geojson')"
   ]
  },
  {
   "cell_type": "markdown",
   "metadata": {
    "id": "2aRV24TUoP-x"
   },
   "source": [
    "## **Exploração e tratamento dos dados**"
   ]
  },
  {
   "cell_type": "code",
   "execution_count": 4,
   "metadata": {
    "colab": {
     "base_uri": "https://localhost:8080/",
     "height": 206
    },
    "executionInfo": {
     "elapsed": 40,
     "status": "ok",
     "timestamp": 1740492937968,
     "user": {
      "displayName": "André Ferreira",
      "userId": "00188573913287098100"
     },
     "user_tz": 180
    },
    "id": "3fE5WXkmZGsx",
    "outputId": "d43f3202-7325-4611-8d3f-efb88143062c"
   },
   "outputs": [
    {
     "data": {
      "text/html": [
       "<div>\n",
       "<style scoped>\n",
       "    .dataframe tbody tr th:only-of-type {\n",
       "        vertical-align: middle;\n",
       "    }\n",
       "\n",
       "    .dataframe tbody tr th {\n",
       "        vertical-align: top;\n",
       "    }\n",
       "\n",
       "    .dataframe thead th {\n",
       "        text-align: right;\n",
       "    }\n",
       "</style>\n",
       "<table border=\"1\" class=\"dataframe\">\n",
       "  <thead>\n",
       "    <tr style=\"text-align: right;\">\n",
       "      <th></th>\n",
       "      <th>Ano</th>\n",
       "      <th>Tipo</th>\n",
       "      <th>Equipamento</th>\n",
       "      <th>Bairro</th>\n",
       "      <th>Janeiro</th>\n",
       "      <th>Fevereiro</th>\n",
       "      <th>Marco</th>\n",
       "      <th>Abril</th>\n",
       "      <th>Maio</th>\n",
       "      <th>Junho</th>\n",
       "      <th>Julho</th>\n",
       "      <th>Agosto</th>\n",
       "      <th>Setembro</th>\n",
       "      <th>Outubro</th>\n",
       "      <th>Novembro</th>\n",
       "      <th>Dezembro</th>\n",
       "      <th>Obs</th>\n",
       "    </tr>\n",
       "  </thead>\n",
       "  <tbody>\n",
       "    <tr>\n",
       "      <th>0</th>\n",
       "      <td>2023</td>\n",
       "      <td>Museu</td>\n",
       "      <td>Casa do Carnaval</td>\n",
       "      <td>Sao Jose</td>\n",
       "      <td>321</td>\n",
       "      <td>172.0</td>\n",
       "      <td>222.0</td>\n",
       "      <td>240</td>\n",
       "      <td>317</td>\n",
       "      <td>206</td>\n",
       "      <td>255.0</td>\n",
       "      <td>194.0</td>\n",
       "      <td>180.0</td>\n",
       "      <td>176</td>\n",
       "      <td>142</td>\n",
       "      <td>44</td>\n",
       "      <td>NaN</td>\n",
       "    </tr>\n",
       "    <tr>\n",
       "      <th>1</th>\n",
       "      <td>2023</td>\n",
       "      <td>Museu</td>\n",
       "      <td>Centro de Design do Recife</td>\n",
       "      <td>Sao Jose</td>\n",
       "      <td>35</td>\n",
       "      <td>100.0</td>\n",
       "      <td>124.0</td>\n",
       "      <td>139</td>\n",
       "      <td>127</td>\n",
       "      <td>130</td>\n",
       "      <td>89.0</td>\n",
       "      <td>98.0</td>\n",
       "      <td>106.0</td>\n",
       "      <td>128</td>\n",
       "      <td>120</td>\n",
       "      <td>93</td>\n",
       "      <td>NaN</td>\n",
       "    </tr>\n",
       "    <tr>\n",
       "      <th>2</th>\n",
       "      <td>2023</td>\n",
       "      <td>Museu</td>\n",
       "      <td>Galeria Janete Costa</td>\n",
       "      <td>Boa Viagem</td>\n",
       "      <td>242</td>\n",
       "      <td>NaN</td>\n",
       "      <td>NaN</td>\n",
       "      <td>1099</td>\n",
       "      <td>180</td>\n",
       "      <td>297</td>\n",
       "      <td>401.0</td>\n",
       "      <td>434.0</td>\n",
       "      <td>566.0</td>\n",
       "      <td>1464</td>\n",
       "      <td>715</td>\n",
       "      <td>273</td>\n",
       "      <td>em manutenção em fevereiro/março</td>\n",
       "    </tr>\n",
       "    <tr>\n",
       "      <th>3</th>\n",
       "      <td>2023</td>\n",
       "      <td>Museu</td>\n",
       "      <td>MAMAM (Museu de Arte Moderna Aloisio Magalhaes)</td>\n",
       "      <td>Boa Vista</td>\n",
       "      <td>523</td>\n",
       "      <td>161.0</td>\n",
       "      <td>599.0</td>\n",
       "      <td>1196</td>\n",
       "      <td>1429</td>\n",
       "      <td>902</td>\n",
       "      <td>NaN</td>\n",
       "      <td>600.0</td>\n",
       "      <td>1320.0</td>\n",
       "      <td>24</td>\n",
       "      <td>737</td>\n",
       "      <td>414</td>\n",
       "      <td>Em manutenção em julho</td>\n",
       "    </tr>\n",
       "    <tr>\n",
       "      <th>4</th>\n",
       "      <td>2023</td>\n",
       "      <td>Museu</td>\n",
       "      <td>MAP (Museu de Arte Popular)</td>\n",
       "      <td>Sao Jose</td>\n",
       "      <td>127</td>\n",
       "      <td>55.0</td>\n",
       "      <td>220.0</td>\n",
       "      <td>135</td>\n",
       "      <td>103</td>\n",
       "      <td>128</td>\n",
       "      <td>104.0</td>\n",
       "      <td>101.0</td>\n",
       "      <td>135.0</td>\n",
       "      <td>129</td>\n",
       "      <td>141</td>\n",
       "      <td>79</td>\n",
       "      <td>NaN</td>\n",
       "    </tr>\n",
       "  </tbody>\n",
       "</table>\n",
       "</div>"
      ],
      "text/plain": [
       "    Ano   Tipo                                      Equipamento      Bairro  \\\n",
       "0  2023  Museu                                 Casa do Carnaval    Sao Jose   \n",
       "1  2023  Museu                       Centro de Design do Recife    Sao Jose   \n",
       "2  2023  Museu                             Galeria Janete Costa  Boa Viagem   \n",
       "3  2023  Museu  MAMAM (Museu de Arte Moderna Aloisio Magalhaes)   Boa Vista   \n",
       "4  2023  Museu                      MAP (Museu de Arte Popular)    Sao Jose   \n",
       "\n",
       "   Janeiro  Fevereiro  Marco  Abril  Maio  Junho  Julho  Agosto  Setembro  \\\n",
       "0      321      172.0  222.0    240   317    206  255.0   194.0     180.0   \n",
       "1       35      100.0  124.0    139   127    130   89.0    98.0     106.0   \n",
       "2      242        NaN    NaN   1099   180    297  401.0   434.0     566.0   \n",
       "3      523      161.0  599.0   1196  1429    902    NaN   600.0    1320.0   \n",
       "4      127       55.0  220.0    135   103    128  104.0   101.0     135.0   \n",
       "\n",
       "   Outubro  Novembro  Dezembro                               Obs  \n",
       "0      176       142        44                               NaN  \n",
       "1      128       120        93                               NaN  \n",
       "2     1464       715       273  em manutenção em fevereiro/março  \n",
       "3       24       737       414            Em manutenção em julho  \n",
       "4      129       141        79                               NaN  "
      ]
     },
     "execution_count": 4,
     "metadata": {},
     "output_type": "execute_result"
    }
   ],
   "source": [
    "df.head()"
   ]
  },
  {
   "cell_type": "code",
   "execution_count": 5,
   "metadata": {
    "colab": {
     "base_uri": "https://localhost:8080/",
     "height": 293
    },
    "executionInfo": {
     "elapsed": 78,
     "status": "ok",
     "timestamp": 1740492938049,
     "user": {
      "displayName": "André Ferreira",
      "userId": "00188573913287098100"
     },
     "user_tz": 180
    },
    "id": "9XWxRk5qDQNa",
    "outputId": "3458492a-43cc-483e-f210-7a9b374384fa"
   },
   "outputs": [
    {
     "data": {
      "text/html": [
       "<div>\n",
       "<style scoped>\n",
       "    .dataframe tbody tr th:only-of-type {\n",
       "        vertical-align: middle;\n",
       "    }\n",
       "\n",
       "    .dataframe tbody tr th {\n",
       "        vertical-align: top;\n",
       "    }\n",
       "\n",
       "    .dataframe thead th {\n",
       "        text-align: right;\n",
       "    }\n",
       "</style>\n",
       "<table border=\"1\" class=\"dataframe\">\n",
       "  <thead>\n",
       "    <tr style=\"text-align: right;\">\n",
       "      <th></th>\n",
       "      <th>OBJECTID</th>\n",
       "      <th>CBAIRRCODI</th>\n",
       "      <th>VBAIRROID</th>\n",
       "      <th>EBAIRRNOME</th>\n",
       "      <th>CRPAAACODI</th>\n",
       "      <th>CMICROCODI</th>\n",
       "      <th>TBAIRRULAT</th>\n",
       "      <th>CEMPRECODI</th>\n",
       "      <th>AUSUACMATR</th>\n",
       "      <th>EBAIRRNOMEOF</th>\n",
       "      <th>EBAIRRLINK</th>\n",
       "      <th>TBAIRRSULAT</th>\n",
       "      <th>DB2GSE.ST_Area(SHAPE)</th>\n",
       "      <th>DB2GSE.SdeLength(SHAPE)</th>\n",
       "      <th>geometry</th>\n",
       "    </tr>\n",
       "  </thead>\n",
       "  <tbody>\n",
       "    <tr>\n",
       "      <th>0</th>\n",
       "      <td>1</td>\n",
       "      <td>752</td>\n",
       "      <td>None</td>\n",
       "      <td>CURADO</td>\n",
       "      <td>5</td>\n",
       "      <td>3</td>\n",
       "      <td>2019-10-15 21:00:00</td>\n",
       "      <td>None</td>\n",
       "      <td>None</td>\n",
       "      <td>Curado</td>\n",
       "      <td>None</td>\n",
       "      <td>None</td>\n",
       "      <td>8.255774e+06</td>\n",
       "      <td>18101.174156</td>\n",
       "      <td>MULTIPOLYGON (((-34.9712 -8.08154, -34.9712 -8...</td>\n",
       "    </tr>\n",
       "    <tr>\n",
       "      <th>1</th>\n",
       "      <td>2</td>\n",
       "      <td>396</td>\n",
       "      <td>None</td>\n",
       "      <td>DOIS UNIDOS</td>\n",
       "      <td>2</td>\n",
       "      <td>3</td>\n",
       "      <td>2019-10-15 21:00:00</td>\n",
       "      <td>None</td>\n",
       "      <td>None</td>\n",
       "      <td>Dois Unidos</td>\n",
       "      <td>None</td>\n",
       "      <td>None</td>\n",
       "      <td>3.118840e+06</td>\n",
       "      <td>8101.114056</td>\n",
       "      <td>MULTIPOLYGON (((-34.91022 -7.99242, -34.9102 -...</td>\n",
       "    </tr>\n",
       "    <tr>\n",
       "      <th>2</th>\n",
       "      <td>3</td>\n",
       "      <td>132</td>\n",
       "      <td>None</td>\n",
       "      <td>AFLITOS</td>\n",
       "      <td>3</td>\n",
       "      <td>1</td>\n",
       "      <td>2019-10-15 21:00:00</td>\n",
       "      <td>None</td>\n",
       "      <td>None</td>\n",
       "      <td>Aflitos</td>\n",
       "      <td>None</td>\n",
       "      <td>None</td>\n",
       "      <td>3.074612e+05</td>\n",
       "      <td>2417.227267</td>\n",
       "      <td>MULTIPOLYGON (((-34.89256 -8.0399, -34.89248 -...</td>\n",
       "    </tr>\n",
       "    <tr>\n",
       "      <th>3</th>\n",
       "      <td>4</td>\n",
       "      <td>906</td>\n",
       "      <td>None</td>\n",
       "      <td>SANCHO</td>\n",
       "      <td>5</td>\n",
       "      <td>3</td>\n",
       "      <td>2019-10-15 21:00:00</td>\n",
       "      <td>None</td>\n",
       "      <td>None</td>\n",
       "      <td>Sancho</td>\n",
       "      <td>None</td>\n",
       "      <td>None</td>\n",
       "      <td>6.324592e+05</td>\n",
       "      <td>3188.997249</td>\n",
       "      <td>MULTIPOLYGON (((-34.96576 -8.08146, -34.96576 ...</td>\n",
       "    </tr>\n",
       "    <tr>\n",
       "      <th>4</th>\n",
       "      <td>5</td>\n",
       "      <td>736</td>\n",
       "      <td>None</td>\n",
       "      <td>VARZEA</td>\n",
       "      <td>4</td>\n",
       "      <td>3</td>\n",
       "      <td>2019-10-15 21:00:00</td>\n",
       "      <td>None</td>\n",
       "      <td>None</td>\n",
       "      <td>Várzea</td>\n",
       "      <td>None</td>\n",
       "      <td>None</td>\n",
       "      <td>2.239116e+07</td>\n",
       "      <td>27311.242636</td>\n",
       "      <td>MULTIPOLYGON (((-34.96607 -8.02122, -34.96604 ...</td>\n",
       "    </tr>\n",
       "  </tbody>\n",
       "</table>\n",
       "</div>"
      ],
      "text/plain": [
       "   OBJECTID  CBAIRRCODI VBAIRROID   EBAIRRNOME  CRPAAACODI  CMICROCODI  \\\n",
       "0         1         752      None       CURADO           5           3   \n",
       "1         2         396      None  DOIS UNIDOS           2           3   \n",
       "2         3         132      None      AFLITOS           3           1   \n",
       "3         4         906      None       SANCHO           5           3   \n",
       "4         5         736      None       VARZEA           4           3   \n",
       "\n",
       "           TBAIRRULAT CEMPRECODI AUSUACMATR EBAIRRNOMEOF EBAIRRLINK  \\\n",
       "0 2019-10-15 21:00:00       None       None       Curado       None   \n",
       "1 2019-10-15 21:00:00       None       None  Dois Unidos       None   \n",
       "2 2019-10-15 21:00:00       None       None      Aflitos       None   \n",
       "3 2019-10-15 21:00:00       None       None       Sancho       None   \n",
       "4 2019-10-15 21:00:00       None       None       Várzea       None   \n",
       "\n",
       "  TBAIRRSULAT  DB2GSE.ST_Area(SHAPE)  DB2GSE.SdeLength(SHAPE)  \\\n",
       "0        None           8.255774e+06             18101.174156   \n",
       "1        None           3.118840e+06              8101.114056   \n",
       "2        None           3.074612e+05              2417.227267   \n",
       "3        None           6.324592e+05              3188.997249   \n",
       "4        None           2.239116e+07             27311.242636   \n",
       "\n",
       "                                            geometry  \n",
       "0  MULTIPOLYGON (((-34.9712 -8.08154, -34.9712 -8...  \n",
       "1  MULTIPOLYGON (((-34.91022 -7.99242, -34.9102 -...  \n",
       "2  MULTIPOLYGON (((-34.89256 -8.0399, -34.89248 -...  \n",
       "3  MULTIPOLYGON (((-34.96576 -8.08146, -34.96576 ...  \n",
       "4  MULTIPOLYGON (((-34.96607 -8.02122, -34.96604 ...  "
      ]
     },
     "execution_count": 5,
     "metadata": {},
     "output_type": "execute_result"
    }
   ],
   "source": [
    "gdf.head()"
   ]
  },
  {
   "cell_type": "code",
   "execution_count": 6,
   "metadata": {
    "colab": {
     "base_uri": "https://localhost:8080/",
     "height": 121
    },
    "executionInfo": {
     "elapsed": 27,
     "status": "ok",
     "timestamp": 1740492938076,
     "user": {
      "displayName": "André Ferreira",
      "userId": "00188573913287098100"
     },
     "user_tz": 180
    },
    "id": "pLtnE56tH4Fq",
    "outputId": "df4b1a53-cba5-4093-aa4c-62178fb5b914"
   },
   "outputs": [
    {
     "data": {
      "image/svg+xml": [
       "<svg xmlns=\"http://www.w3.org/2000/svg\" xmlns:xlink=\"http://www.w3.org/1999/xlink\" width=\"100.0\" height=\"100.0\" viewBox=\"-34.91690149777757 -8.038298667988494 0.011548169875567282 0.00886932622567116\" preserveAspectRatio=\"xMinYMin meet\"><g transform=\"matrix(1,0,0,-1,0,-16.067728009751317)\"><g><path fill-rule=\"evenodd\" fill=\"#66cc99\" stroke=\"#555555\" stroke-width=\"0.00023096339751134564\" opacity=\"0.6\" d=\"M -34.90897830434088,-8.03109186725944 L -34.908808715004696,-8.031262484524449 L -34.90878298174066,-8.031222309622736 L -34.90860588168274,-8.03105380670006 L -34.908562774480565,-8.031137950409011 L -34.908404666449925,-8.031498178834953 L -34.90811842040508,-8.032149995330085 L -34.907891772530576,-8.032666143756384 L -34.90783732852575,-8.032683380192918 L -34.907266896794674,-8.032609528524562 L -34.90709187663483,-8.033074317639231 L -34.906988294933996,-8.033305502054594 L -34.90676099380258,-8.033523937856852 L -34.906461910501704,-8.033695156893858 L -34.906050117679975,-8.033812551040311 L -34.905818699652016,-8.033843796216907 L -34.9057810378974,-8.033840736929951 L -34.9057812291586,-8.033881730188687 L -34.90582950649707,-8.033907646686416 L -34.90591220897167,-8.033936359003013 L -34.90584528535893,-8.034464005935906 L -34.90584633907984,-8.034689823230348 L -34.90588105069298,-8.034825526826868 L -34.906035686653446,-8.03503607563319 L -34.90615561964991,-8.035147559093344 L -34.90620781221835,-8.035196074460847 L -34.906309924913465,-8.035305468007602 L -34.90635525324804,-8.035354027835787 L -34.90643710248925,-8.035430335952588 L -34.906753304394435,-8.03572513019717 L -34.906831594481766,-8.035805307852884 L -34.90691700080125,-8.035892771818016 L -34.90735633535199,-8.03622488279413 L -34.90780764455225,-8.036542070138303 L -34.90791014574658,-8.03659933722037 L -34.90808764774384,-8.036663048361875 L -34.90843571040131,-8.036763330829926 L -34.90879759534651,-8.036904307782004 L -34.90913979962167,-8.037031155690467 L -34.90923460471373,-8.03708762637649 L -34.90949357653431,-8.037241881350088 L -34.909642057650856,-8.037330321695729 L -34.910011526118105,-8.037550387929016 L -34.91021685333337,-8.037672686934183 L -34.91045975221461,-8.03782251086603 L -34.91073102803847,-8.037870957993103 L -34.91097165243393,-8.037856871200097 L -34.9114028498996,-8.037790028001776 L -34.91279804914343,-8.037524182446353 L -34.913516227110954,-8.037386136078325 L -34.91357129353275,-8.03740490032484 L -34.91362094898883,-8.037435562853531 L -34.91368604616746,-8.037497047204905 L -34.91368679992249,-8.03748621117948 L -34.91369146522954,-8.037450882072598 L -34.913697318976055,-8.037411535188179 L -34.913722952317706,-8.037384133835477 L -34.91386887697918,-8.037342128564596 L -34.914021546837326,-8.037289004374895 L -34.91438821309912,-8.037218523419746 L -34.914613547835664,-8.037180732526812 L -34.914570894035336,-8.037141220162393 L -34.91444951275791,-8.03699143138692 L -34.91393151262459,-8.036472896910093 L -34.91403498617693,-8.036349716193223 L -34.914104429327644,-8.036239288475244 L -34.914537525918504,-8.035154584420017 L -34.914572066249534,-8.035060834708784 L -34.914643437279935,-8.034968750525284 L -34.91472410820065,-8.034896807183848 L -34.915029025418434,-8.034746746840396 L -34.916098269874205,-8.034262812048244 L -34.91610372381387,-8.034248107332655 L -34.91600868564331,-8.034073463661972 L -34.915884586107644,-8.0338454148482 L -34.9158829506624,-8.033790287176089 L -34.91647378778218,-8.033071942166998 L -34.91644809104312,-8.033049197237947 L -34.9156141841085,-8.032325406545707 L -34.91549995165803,-8.032157218426779 L -34.9152809977272,-8.031541733614965 L -34.914825347853295,-8.031686263707787 L -34.91307749231036,-8.032233370642674 L -34.91297561612824,-8.032264083771599 L -34.91297084554746,-8.032265524443426 L -34.91297003620181,-8.032264109728317 L -34.91294450966688,-8.032219556747156 L -34.91256606947052,-8.03167603376766 L -34.912159467474716,-8.031086254363826 L -34.91177766820869,-8.030603044319292 L -34.91174819039269,-8.030567877514095 L -34.911609468899165,-8.030447877212797 L -34.91146926376728,-8.030343233895735 L -34.91134286122185,-8.030275888763013 L -34.91119274355575,-8.030171878121159 L -34.91099486909345,-8.029976286656122 L -34.910884753729846,-8.029857051758214 L -34.910184166207564,-8.030260890858196 L -34.90991909887215,-8.030418367255544 L -34.909518056691894,-8.030647802164474 L -34.90939568534949,-8.030712906256486 L -34.90897830434088,-8.03109186725944 z\" /></g></g></svg>"
      ],
      "text/plain": [
       "<MULTIPOLYGON (((-34.909 -8.031, -34.909 -8.031, -34.909 -8.031, -34.909 -8....>"
      ]
     },
     "execution_count": 6,
     "metadata": {},
     "output_type": "execute_result"
    }
   ],
   "source": [
    "gdf.loc[gdf['EBAIRRNOME'] == 'PARNAMIRIM']['geometry'].values[0]"
   ]
  },
  {
   "cell_type": "code",
   "execution_count": 7,
   "metadata": {
    "colab": {
     "base_uri": "https://localhost:8080/",
     "height": 35
    },
    "executionInfo": {
     "elapsed": 3,
     "status": "ok",
     "timestamp": 1740492938082,
     "user": {
      "displayName": "André Ferreira",
      "userId": "00188573913287098100"
     },
     "user_tz": 180
    },
    "id": "Tu34ZYFTFUr7",
    "outputId": "3eaa7415-376e-4a32-f98a-815ccbe09a3f"
   },
   "outputs": [
    {
     "data": {
      "text/plain": [
       "'CURADO'"
      ]
     },
     "execution_count": 7,
     "metadata": {},
     "output_type": "execute_result"
    }
   ],
   "source": [
    "gdf.iloc[0]['EBAIRRNOME']"
   ]
  },
  {
   "cell_type": "code",
   "execution_count": 8,
   "metadata": {
    "colab": {
     "base_uri": "https://localhost:8080/"
    },
    "executionInfo": {
     "elapsed": 23,
     "status": "ok",
     "timestamp": 1740492938107,
     "user": {
      "displayName": "André Ferreira",
      "userId": "00188573913287098100"
     },
     "user_tz": 180
    },
    "id": "hJWGfG33G2Qd",
    "outputId": "f2ed1800-0e68-473f-eb30-7938a729c6da"
   },
   "outputs": [
    {
     "data": {
      "text/plain": [
       "np.int64(0)"
      ]
     },
     "execution_count": 8,
     "metadata": {},
     "output_type": "execute_result"
    }
   ],
   "source": [
    "gdf.index[gdf['EBAIRRNOME'] == 'Curado'.upper()][0]"
   ]
  },
  {
   "cell_type": "code",
   "execution_count": 9,
   "metadata": {
    "colab": {
     "base_uri": "https://localhost:8080/"
    },
    "executionInfo": {
     "elapsed": 2,
     "status": "ok",
     "timestamp": 1740492938110,
     "user": {
      "displayName": "André Ferreira",
      "userId": "00188573913287098100"
     },
     "user_tz": 180
    },
    "id": "lzDQuVvwZIk2",
    "outputId": "dad16c0d-34d8-456a-fda4-71b226dbbd9f"
   },
   "outputs": [
    {
     "name": "stdout",
     "output_type": "stream",
     "text": [
      "<class 'pandas.core.frame.DataFrame'>\n",
      "RangeIndex: 15 entries, 0 to 14\n",
      "Data columns (total 17 columns):\n",
      " #   Column       Non-Null Count  Dtype  \n",
      "---  ------       --------------  -----  \n",
      " 0   Ano          15 non-null     int64  \n",
      " 1   Tipo         15 non-null     object \n",
      " 2   Equipamento  15 non-null     object \n",
      " 3   Bairro       15 non-null     object \n",
      " 4   Janeiro      15 non-null     int64  \n",
      " 5   Fevereiro    14 non-null     float64\n",
      " 6   Marco        14 non-null     float64\n",
      " 7   Abril        15 non-null     int64  \n",
      " 8   Maio         15 non-null     int64  \n",
      " 9   Junho        15 non-null     int64  \n",
      " 10  Julho        14 non-null     float64\n",
      " 11  Agosto       14 non-null     float64\n",
      " 12  Setembro     14 non-null     float64\n",
      " 13  Outubro      15 non-null     int64  \n",
      " 14  Novembro     15 non-null     int64  \n",
      " 15  Dezembro     15 non-null     int64  \n",
      " 16  Obs          3 non-null      object \n",
      "dtypes: float64(5), int64(8), object(4)\n",
      "memory usage: 2.1+ KB\n"
     ]
    }
   ],
   "source": [
    "df.info()"
   ]
  },
  {
   "cell_type": "code",
   "execution_count": 10,
   "metadata": {
    "executionInfo": {
     "elapsed": 46,
     "status": "ok",
     "timestamp": 1740492938156,
     "user": {
      "displayName": "André Ferreira",
      "userId": "00188573913287098100"
     },
     "user_tz": 180
    },
    "id": "OPZby6kZa0fV"
   },
   "outputs": [],
   "source": [
    "for col in df.columns:\n",
    "  if df[col].dtype != 'object':\n",
    "    df[col] = df[col].fillna(0).astype('int16')"
   ]
  },
  {
   "cell_type": "code",
   "execution_count": 11,
   "metadata": {
    "colab": {
     "base_uri": "https://localhost:8080/"
    },
    "executionInfo": {
     "elapsed": 3,
     "status": "ok",
     "timestamp": 1740492938158,
     "user": {
      "displayName": "André Ferreira",
      "userId": "00188573913287098100"
     },
     "user_tz": 180
    },
    "id": "I_YSubxxdKZS",
    "outputId": "888a51db-6766-4a7e-cd22-18ea41a2447c"
   },
   "outputs": [
    {
     "name": "stdout",
     "output_type": "stream",
     "text": [
      "<class 'pandas.core.frame.DataFrame'>\n",
      "RangeIndex: 15 entries, 0 to 14\n",
      "Data columns (total 17 columns):\n",
      " #   Column       Non-Null Count  Dtype \n",
      "---  ------       --------------  ----- \n",
      " 0   Ano          15 non-null     int16 \n",
      " 1   Tipo         15 non-null     object\n",
      " 2   Equipamento  15 non-null     object\n",
      " 3   Bairro       15 non-null     object\n",
      " 4   Janeiro      15 non-null     int16 \n",
      " 5   Fevereiro    15 non-null     int16 \n",
      " 6   Marco        15 non-null     int16 \n",
      " 7   Abril        15 non-null     int16 \n",
      " 8   Maio         15 non-null     int16 \n",
      " 9   Junho        15 non-null     int16 \n",
      " 10  Julho        15 non-null     int16 \n",
      " 11  Agosto       15 non-null     int16 \n",
      " 12  Setembro     15 non-null     int16 \n",
      " 13  Outubro      15 non-null     int16 \n",
      " 14  Novembro     15 non-null     int16 \n",
      " 15  Dezembro     15 non-null     int16 \n",
      " 16  Obs          3 non-null      object\n",
      "dtypes: int16(13), object(4)\n",
      "memory usage: 998.0+ bytes\n"
     ]
    }
   ],
   "source": [
    "df.info()"
   ]
  },
  {
   "cell_type": "code",
   "execution_count": 12,
   "metadata": {
    "colab": {
     "base_uri": "https://localhost:8080/",
     "height": 206
    },
    "executionInfo": {
     "elapsed": 59,
     "status": "ok",
     "timestamp": 1740492938218,
     "user": {
      "displayName": "André Ferreira",
      "userId": "00188573913287098100"
     },
     "user_tz": 180
    },
    "id": "lYVtbDAqf4UB",
    "outputId": "45e47d8c-f000-4ed1-f435-ced86bf5043a"
   },
   "outputs": [
    {
     "data": {
      "text/html": [
       "<div>\n",
       "<style scoped>\n",
       "    .dataframe tbody tr th:only-of-type {\n",
       "        vertical-align: middle;\n",
       "    }\n",
       "\n",
       "    .dataframe tbody tr th {\n",
       "        vertical-align: top;\n",
       "    }\n",
       "\n",
       "    .dataframe thead th {\n",
       "        text-align: right;\n",
       "    }\n",
       "</style>\n",
       "<table border=\"1\" class=\"dataframe\">\n",
       "  <thead>\n",
       "    <tr style=\"text-align: right;\">\n",
       "      <th></th>\n",
       "      <th>Ano</th>\n",
       "      <th>Tipo</th>\n",
       "      <th>Equipamento</th>\n",
       "      <th>Bairro</th>\n",
       "      <th>Janeiro</th>\n",
       "      <th>Fevereiro</th>\n",
       "      <th>Marco</th>\n",
       "      <th>Abril</th>\n",
       "      <th>Maio</th>\n",
       "      <th>Junho</th>\n",
       "      <th>Julho</th>\n",
       "      <th>Agosto</th>\n",
       "      <th>Setembro</th>\n",
       "      <th>Outubro</th>\n",
       "      <th>Novembro</th>\n",
       "      <th>Dezembro</th>\n",
       "      <th>Obs</th>\n",
       "    </tr>\n",
       "  </thead>\n",
       "  <tbody>\n",
       "    <tr>\n",
       "      <th>0</th>\n",
       "      <td>2023</td>\n",
       "      <td>Museu</td>\n",
       "      <td>Casa do Carnaval</td>\n",
       "      <td>Sao Jose</td>\n",
       "      <td>321</td>\n",
       "      <td>172</td>\n",
       "      <td>222</td>\n",
       "      <td>240</td>\n",
       "      <td>317</td>\n",
       "      <td>206</td>\n",
       "      <td>255</td>\n",
       "      <td>194</td>\n",
       "      <td>180</td>\n",
       "      <td>176</td>\n",
       "      <td>142</td>\n",
       "      <td>44</td>\n",
       "      <td>NaN</td>\n",
       "    </tr>\n",
       "    <tr>\n",
       "      <th>1</th>\n",
       "      <td>2023</td>\n",
       "      <td>Museu</td>\n",
       "      <td>Centro de Design do Recife</td>\n",
       "      <td>Sao Jose</td>\n",
       "      <td>35</td>\n",
       "      <td>100</td>\n",
       "      <td>124</td>\n",
       "      <td>139</td>\n",
       "      <td>127</td>\n",
       "      <td>130</td>\n",
       "      <td>89</td>\n",
       "      <td>98</td>\n",
       "      <td>106</td>\n",
       "      <td>128</td>\n",
       "      <td>120</td>\n",
       "      <td>93</td>\n",
       "      <td>NaN</td>\n",
       "    </tr>\n",
       "    <tr>\n",
       "      <th>2</th>\n",
       "      <td>2023</td>\n",
       "      <td>Museu</td>\n",
       "      <td>Galeria Janete Costa</td>\n",
       "      <td>Boa Viagem</td>\n",
       "      <td>242</td>\n",
       "      <td>0</td>\n",
       "      <td>0</td>\n",
       "      <td>1099</td>\n",
       "      <td>180</td>\n",
       "      <td>297</td>\n",
       "      <td>401</td>\n",
       "      <td>434</td>\n",
       "      <td>566</td>\n",
       "      <td>1464</td>\n",
       "      <td>715</td>\n",
       "      <td>273</td>\n",
       "      <td>em manutenção em fevereiro/março</td>\n",
       "    </tr>\n",
       "    <tr>\n",
       "      <th>3</th>\n",
       "      <td>2023</td>\n",
       "      <td>Museu</td>\n",
       "      <td>MAMAM (Museu de Arte Moderna Aloisio Magalhaes)</td>\n",
       "      <td>Boa Vista</td>\n",
       "      <td>523</td>\n",
       "      <td>161</td>\n",
       "      <td>599</td>\n",
       "      <td>1196</td>\n",
       "      <td>1429</td>\n",
       "      <td>902</td>\n",
       "      <td>0</td>\n",
       "      <td>600</td>\n",
       "      <td>1320</td>\n",
       "      <td>24</td>\n",
       "      <td>737</td>\n",
       "      <td>414</td>\n",
       "      <td>Em manutenção em julho</td>\n",
       "    </tr>\n",
       "    <tr>\n",
       "      <th>4</th>\n",
       "      <td>2023</td>\n",
       "      <td>Museu</td>\n",
       "      <td>MAP (Museu de Arte Popular)</td>\n",
       "      <td>Sao Jose</td>\n",
       "      <td>127</td>\n",
       "      <td>55</td>\n",
       "      <td>220</td>\n",
       "      <td>135</td>\n",
       "      <td>103</td>\n",
       "      <td>128</td>\n",
       "      <td>104</td>\n",
       "      <td>101</td>\n",
       "      <td>135</td>\n",
       "      <td>129</td>\n",
       "      <td>141</td>\n",
       "      <td>79</td>\n",
       "      <td>NaN</td>\n",
       "    </tr>\n",
       "  </tbody>\n",
       "</table>\n",
       "</div>"
      ],
      "text/plain": [
       "    Ano   Tipo                                      Equipamento      Bairro  \\\n",
       "0  2023  Museu                                 Casa do Carnaval    Sao Jose   \n",
       "1  2023  Museu                       Centro de Design do Recife    Sao Jose   \n",
       "2  2023  Museu                             Galeria Janete Costa  Boa Viagem   \n",
       "3  2023  Museu  MAMAM (Museu de Arte Moderna Aloisio Magalhaes)   Boa Vista   \n",
       "4  2023  Museu                      MAP (Museu de Arte Popular)    Sao Jose   \n",
       "\n",
       "   Janeiro  Fevereiro  Marco  Abril  Maio  Junho  Julho  Agosto  Setembro  \\\n",
       "0      321        172    222    240   317    206    255     194       180   \n",
       "1       35        100    124    139   127    130     89      98       106   \n",
       "2      242          0      0   1099   180    297    401     434       566   \n",
       "3      523        161    599   1196  1429    902      0     600      1320   \n",
       "4      127         55    220    135   103    128    104     101       135   \n",
       "\n",
       "   Outubro  Novembro  Dezembro                               Obs  \n",
       "0      176       142        44                               NaN  \n",
       "1      128       120        93                               NaN  \n",
       "2     1464       715       273  em manutenção em fevereiro/março  \n",
       "3       24       737       414            Em manutenção em julho  \n",
       "4      129       141        79                               NaN  "
      ]
     },
     "execution_count": 12,
     "metadata": {},
     "output_type": "execute_result"
    }
   ],
   "source": [
    "df.head()"
   ]
  },
  {
   "cell_type": "code",
   "execution_count": 13,
   "metadata": {
    "executionInfo": {
     "elapsed": 2,
     "status": "ok",
     "timestamp": 1740492938219,
     "user": {
      "displayName": "André Ferreira",
      "userId": "00188573913287098100"
     },
     "user_tz": 180
    },
    "id": "Qrnyjljef-RI"
   },
   "outputs": [],
   "source": [
    "df['Equipamento'] = df['Equipamento'].apply(\n",
    "                        lambda x: x.split(' ', maxsplit=1)[-1][1:-1]\n",
    "                        if x.endswith(')') else x)"
   ]
  },
  {
   "cell_type": "code",
   "execution_count": 14,
   "metadata": {
    "colab": {
     "base_uri": "https://localhost:8080/",
     "height": 206
    },
    "executionInfo": {
     "elapsed": 34,
     "status": "ok",
     "timestamp": 1740492938252,
     "user": {
      "displayName": "André Ferreira",
      "userId": "00188573913287098100"
     },
     "user_tz": 180
    },
    "id": "JCM0WJMNg9FZ",
    "outputId": "631155cf-2ca5-41ba-d5f6-d5540e349739"
   },
   "outputs": [
    {
     "data": {
      "text/html": [
       "<div>\n",
       "<style scoped>\n",
       "    .dataframe tbody tr th:only-of-type {\n",
       "        vertical-align: middle;\n",
       "    }\n",
       "\n",
       "    .dataframe tbody tr th {\n",
       "        vertical-align: top;\n",
       "    }\n",
       "\n",
       "    .dataframe thead th {\n",
       "        text-align: right;\n",
       "    }\n",
       "</style>\n",
       "<table border=\"1\" class=\"dataframe\">\n",
       "  <thead>\n",
       "    <tr style=\"text-align: right;\">\n",
       "      <th></th>\n",
       "      <th>Ano</th>\n",
       "      <th>Tipo</th>\n",
       "      <th>Equipamento</th>\n",
       "      <th>Bairro</th>\n",
       "      <th>Janeiro</th>\n",
       "      <th>Fevereiro</th>\n",
       "      <th>Marco</th>\n",
       "      <th>Abril</th>\n",
       "      <th>Maio</th>\n",
       "      <th>Junho</th>\n",
       "      <th>Julho</th>\n",
       "      <th>Agosto</th>\n",
       "      <th>Setembro</th>\n",
       "      <th>Outubro</th>\n",
       "      <th>Novembro</th>\n",
       "      <th>Dezembro</th>\n",
       "      <th>Obs</th>\n",
       "    </tr>\n",
       "  </thead>\n",
       "  <tbody>\n",
       "    <tr>\n",
       "      <th>0</th>\n",
       "      <td>2023</td>\n",
       "      <td>Museu</td>\n",
       "      <td>Casa do Carnaval</td>\n",
       "      <td>Sao Jose</td>\n",
       "      <td>321</td>\n",
       "      <td>172</td>\n",
       "      <td>222</td>\n",
       "      <td>240</td>\n",
       "      <td>317</td>\n",
       "      <td>206</td>\n",
       "      <td>255</td>\n",
       "      <td>194</td>\n",
       "      <td>180</td>\n",
       "      <td>176</td>\n",
       "      <td>142</td>\n",
       "      <td>44</td>\n",
       "      <td>NaN</td>\n",
       "    </tr>\n",
       "    <tr>\n",
       "      <th>1</th>\n",
       "      <td>2023</td>\n",
       "      <td>Museu</td>\n",
       "      <td>Centro de Design do Recife</td>\n",
       "      <td>Sao Jose</td>\n",
       "      <td>35</td>\n",
       "      <td>100</td>\n",
       "      <td>124</td>\n",
       "      <td>139</td>\n",
       "      <td>127</td>\n",
       "      <td>130</td>\n",
       "      <td>89</td>\n",
       "      <td>98</td>\n",
       "      <td>106</td>\n",
       "      <td>128</td>\n",
       "      <td>120</td>\n",
       "      <td>93</td>\n",
       "      <td>NaN</td>\n",
       "    </tr>\n",
       "    <tr>\n",
       "      <th>2</th>\n",
       "      <td>2023</td>\n",
       "      <td>Museu</td>\n",
       "      <td>Galeria Janete Costa</td>\n",
       "      <td>Boa Viagem</td>\n",
       "      <td>242</td>\n",
       "      <td>0</td>\n",
       "      <td>0</td>\n",
       "      <td>1099</td>\n",
       "      <td>180</td>\n",
       "      <td>297</td>\n",
       "      <td>401</td>\n",
       "      <td>434</td>\n",
       "      <td>566</td>\n",
       "      <td>1464</td>\n",
       "      <td>715</td>\n",
       "      <td>273</td>\n",
       "      <td>em manutenção em fevereiro/março</td>\n",
       "    </tr>\n",
       "    <tr>\n",
       "      <th>3</th>\n",
       "      <td>2023</td>\n",
       "      <td>Museu</td>\n",
       "      <td>Museu de Arte Moderna Aloisio Magalhaes</td>\n",
       "      <td>Boa Vista</td>\n",
       "      <td>523</td>\n",
       "      <td>161</td>\n",
       "      <td>599</td>\n",
       "      <td>1196</td>\n",
       "      <td>1429</td>\n",
       "      <td>902</td>\n",
       "      <td>0</td>\n",
       "      <td>600</td>\n",
       "      <td>1320</td>\n",
       "      <td>24</td>\n",
       "      <td>737</td>\n",
       "      <td>414</td>\n",
       "      <td>Em manutenção em julho</td>\n",
       "    </tr>\n",
       "    <tr>\n",
       "      <th>4</th>\n",
       "      <td>2023</td>\n",
       "      <td>Museu</td>\n",
       "      <td>Museu de Arte Popular</td>\n",
       "      <td>Sao Jose</td>\n",
       "      <td>127</td>\n",
       "      <td>55</td>\n",
       "      <td>220</td>\n",
       "      <td>135</td>\n",
       "      <td>103</td>\n",
       "      <td>128</td>\n",
       "      <td>104</td>\n",
       "      <td>101</td>\n",
       "      <td>135</td>\n",
       "      <td>129</td>\n",
       "      <td>141</td>\n",
       "      <td>79</td>\n",
       "      <td>NaN</td>\n",
       "    </tr>\n",
       "  </tbody>\n",
       "</table>\n",
       "</div>"
      ],
      "text/plain": [
       "    Ano   Tipo                              Equipamento      Bairro  Janeiro  \\\n",
       "0  2023  Museu                         Casa do Carnaval    Sao Jose      321   \n",
       "1  2023  Museu               Centro de Design do Recife    Sao Jose       35   \n",
       "2  2023  Museu                     Galeria Janete Costa  Boa Viagem      242   \n",
       "3  2023  Museu  Museu de Arte Moderna Aloisio Magalhaes   Boa Vista      523   \n",
       "4  2023  Museu                    Museu de Arte Popular    Sao Jose      127   \n",
       "\n",
       "   Fevereiro  Marco  Abril  Maio  Junho  Julho  Agosto  Setembro  Outubro  \\\n",
       "0        172    222    240   317    206    255     194       180      176   \n",
       "1        100    124    139   127    130     89      98       106      128   \n",
       "2          0      0   1099   180    297    401     434       566     1464   \n",
       "3        161    599   1196  1429    902      0     600      1320       24   \n",
       "4         55    220    135   103    128    104     101       135      129   \n",
       "\n",
       "   Novembro  Dezembro                               Obs  \n",
       "0       142        44                               NaN  \n",
       "1       120        93                               NaN  \n",
       "2       715       273  em manutenção em fevereiro/março  \n",
       "3       737       414            Em manutenção em julho  \n",
       "4       141        79                               NaN  "
      ]
     },
     "execution_count": 14,
     "metadata": {},
     "output_type": "execute_result"
    }
   ],
   "source": [
    "df.head()"
   ]
  },
  {
   "cell_type": "code",
   "execution_count": 15,
   "metadata": {
    "executionInfo": {
     "elapsed": 29,
     "status": "ok",
     "timestamp": 1740492938280,
     "user": {
      "displayName": "André Ferreira",
      "userId": "00188573913287098100"
     },
     "user_tz": 180
    },
    "id": "L60cz22vAJsn"
   },
   "outputs": [],
   "source": [
    "for column in df.columns:\n",
    "  if df[column].dtype == 'object':\n",
    "    df[column] = df[column].astype(pd.StringDtype(storage='pyarrow'))"
   ]
  },
  {
   "cell_type": "code",
   "execution_count": 16,
   "metadata": {
    "colab": {
     "base_uri": "https://localhost:8080/"
    },
    "executionInfo": {
     "elapsed": 46,
     "status": "ok",
     "timestamp": 1740492938333,
     "user": {
      "displayName": "André Ferreira",
      "userId": "00188573913287098100"
     },
     "user_tz": 180
    },
    "id": "D8Qye1xji737",
    "outputId": "c3e0f7e5-acaa-485f-e3ed-2d90db4930a3"
   },
   "outputs": [
    {
     "name": "stdout",
     "output_type": "stream",
     "text": [
      "<class 'pandas.core.frame.DataFrame'>\n",
      "RangeIndex: 15 entries, 0 to 14\n",
      "Data columns (total 17 columns):\n",
      " #   Column       Non-Null Count  Dtype \n",
      "---  ------       --------------  ----- \n",
      " 0   Ano          15 non-null     int16 \n",
      " 1   Tipo         15 non-null     string\n",
      " 2   Equipamento  15 non-null     string\n",
      " 3   Bairro       15 non-null     string\n",
      " 4   Janeiro      15 non-null     int16 \n",
      " 5   Fevereiro    15 non-null     int16 \n",
      " 6   Marco        15 non-null     int16 \n",
      " 7   Abril        15 non-null     int16 \n",
      " 8   Maio         15 non-null     int16 \n",
      " 9   Junho        15 non-null     int16 \n",
      " 10  Julho        15 non-null     int16 \n",
      " 11  Agosto       15 non-null     int16 \n",
      " 12  Setembro     15 non-null     int16 \n",
      " 13  Outubro      15 non-null     int16 \n",
      " 14  Novembro     15 non-null     int16 \n",
      " 15  Dezembro     15 non-null     int16 \n",
      " 16  Obs          3 non-null      string\n",
      "dtypes: int16(13), string(4)\n",
      "memory usage: 1.6 KB\n"
     ]
    }
   ],
   "source": [
    "df.info()"
   ]
  },
  {
   "cell_type": "markdown",
   "metadata": {
    "id": "j_GDgp8xkMS-"
   },
   "source": [
    "## **Análise dos dados**"
   ]
  },
  {
   "cell_type": "markdown",
   "metadata": {
    "id": "UjA4HUPpldPt"
   },
   "source": [
    "### **Quantidade de museus nos bairros do Recife**"
   ]
  },
  {
   "cell_type": "code",
   "execution_count": 17,
   "metadata": {
    "executionInfo": {
     "elapsed": 1,
     "status": "ok",
     "timestamp": 1740492938335,
     "user": {
      "displayName": "André Ferreira",
      "userId": "00188573913287098100"
     },
     "user_tz": 180
    },
    "id": "iOP7_DzVB8lO"
   },
   "outputs": [],
   "source": [
    "cult_gdf = gpd.GeoDataFrame({'Tipo': df['Tipo'],\n",
    "                             'Bairro': df['Bairro'].apply(lambda x: x.strip()),\n",
    "                             'Geometry': [gdf.loc[gdf['EBAIRRNOME'] == y.upper()]['geometry'].values[0] for y in df['Bairro']]})"
   ]
  },
  {
   "cell_type": "code",
   "execution_count": 18,
   "metadata": {
    "colab": {
     "base_uri": "https://localhost:8080/",
     "height": 0
    },
    "executionInfo": {
     "elapsed": 61,
     "status": "ok",
     "timestamp": 1740492938397,
     "user": {
      "displayName": "André Ferreira",
      "userId": "00188573913287098100"
     },
     "user_tz": 180
    },
    "id": "jWNpJDH0DVlx",
    "outputId": "1015f340-9015-44e1-80d8-481641f17278"
   },
   "outputs": [
    {
     "data": {
      "text/html": [
       "<div>\n",
       "<style scoped>\n",
       "    .dataframe tbody tr th:only-of-type {\n",
       "        vertical-align: middle;\n",
       "    }\n",
       "\n",
       "    .dataframe tbody tr th {\n",
       "        vertical-align: top;\n",
       "    }\n",
       "\n",
       "    .dataframe thead th {\n",
       "        text-align: right;\n",
       "    }\n",
       "</style>\n",
       "<table border=\"1\" class=\"dataframe\">\n",
       "  <thead>\n",
       "    <tr style=\"text-align: right;\">\n",
       "      <th></th>\n",
       "      <th>Tipo</th>\n",
       "      <th>Bairro</th>\n",
       "      <th>Geometry</th>\n",
       "    </tr>\n",
       "  </thead>\n",
       "  <tbody>\n",
       "    <tr>\n",
       "      <th>0</th>\n",
       "      <td>Museu</td>\n",
       "      <td>Sao Jose</td>\n",
       "      <td>MULTIPOLYGON (((-34.874815078753905 -8.0665159...</td>\n",
       "    </tr>\n",
       "    <tr>\n",
       "      <th>1</th>\n",
       "      <td>Museu</td>\n",
       "      <td>Sao Jose</td>\n",
       "      <td>MULTIPOLYGON (((-34.874815078753905 -8.0665159...</td>\n",
       "    </tr>\n",
       "    <tr>\n",
       "      <th>2</th>\n",
       "      <td>Museu</td>\n",
       "      <td>Boa Viagem</td>\n",
       "      <td>MULTIPOLYGON (((-34.917949532757795 -8.1431870...</td>\n",
       "    </tr>\n",
       "    <tr>\n",
       "      <th>3</th>\n",
       "      <td>Museu</td>\n",
       "      <td>Boa Vista</td>\n",
       "      <td>MULTIPOLYGON (((-34.88990531378399 -8.04694142...</td>\n",
       "    </tr>\n",
       "    <tr>\n",
       "      <th>4</th>\n",
       "      <td>Museu</td>\n",
       "      <td>Sao Jose</td>\n",
       "      <td>MULTIPOLYGON (((-34.874815078753905 -8.0665159...</td>\n",
       "    </tr>\n",
       "  </tbody>\n",
       "</table>\n",
       "</div>"
      ],
      "text/plain": [
       "    Tipo      Bairro                                           Geometry\n",
       "0  Museu    Sao Jose  MULTIPOLYGON (((-34.874815078753905 -8.0665159...\n",
       "1  Museu    Sao Jose  MULTIPOLYGON (((-34.874815078753905 -8.0665159...\n",
       "2  Museu  Boa Viagem  MULTIPOLYGON (((-34.917949532757795 -8.1431870...\n",
       "3  Museu   Boa Vista  MULTIPOLYGON (((-34.88990531378399 -8.04694142...\n",
       "4  Museu    Sao Jose  MULTIPOLYGON (((-34.874815078753905 -8.0665159..."
      ]
     },
     "execution_count": 18,
     "metadata": {},
     "output_type": "execute_result"
    }
   ],
   "source": [
    "cult_gdf.head()"
   ]
  },
  {
   "cell_type": "code",
   "execution_count": 19,
   "metadata": {
    "colab": {
     "base_uri": "https://localhost:8080/",
     "height": 0
    },
    "executionInfo": {
     "elapsed": 63,
     "status": "ok",
     "timestamp": 1740492938459,
     "user": {
      "displayName": "André Ferreira",
      "userId": "00188573913287098100"
     },
     "user_tz": 180
    },
    "id": "N9ePFKKijwdP",
    "outputId": "e0537555-a4a3-4b4a-ef8d-8adc3832494b"
   },
   "outputs": [
    {
     "data": {
      "text/html": [
       "<div>\n",
       "<style scoped>\n",
       "    .dataframe tbody tr th:only-of-type {\n",
       "        vertical-align: middle;\n",
       "    }\n",
       "\n",
       "    .dataframe tbody tr th {\n",
       "        vertical-align: top;\n",
       "    }\n",
       "\n",
       "    .dataframe thead th {\n",
       "        text-align: right;\n",
       "    }\n",
       "</style>\n",
       "<table border=\"1\" class=\"dataframe\">\n",
       "  <thead>\n",
       "    <tr style=\"text-align: right;\">\n",
       "      <th></th>\n",
       "      <th>Geometry</th>\n",
       "      <th>count</th>\n",
       "    </tr>\n",
       "  </thead>\n",
       "  <tbody>\n",
       "    <tr>\n",
       "      <th>0</th>\n",
       "      <td>MULTIPOLYGON (((-34.874815078753905 -8.0665159...</td>\n",
       "      <td>5</td>\n",
       "    </tr>\n",
       "    <tr>\n",
       "      <th>1</th>\n",
       "      <td>MULTIPOLYGON (((-34.917949532757795 -8.1431870...</td>\n",
       "      <td>1</td>\n",
       "    </tr>\n",
       "    <tr>\n",
       "      <th>2</th>\n",
       "      <td>MULTIPOLYGON (((-34.88990531378399 -8.04694142...</td>\n",
       "      <td>1</td>\n",
       "    </tr>\n",
       "    <tr>\n",
       "      <th>3</th>\n",
       "      <td>MULTIPOLYGON (((-34.90897830434088 -8.03109186...</td>\n",
       "      <td>1</td>\n",
       "    </tr>\n",
       "    <tr>\n",
       "      <th>4</th>\n",
       "      <td>MULTIPOLYGON (((-34.86836686592692 -8.06483853...</td>\n",
       "      <td>1</td>\n",
       "    </tr>\n",
       "  </tbody>\n",
       "</table>\n",
       "</div>"
      ],
      "text/plain": [
       "                                            Geometry  count\n",
       "0  MULTIPOLYGON (((-34.874815078753905 -8.0665159...      5\n",
       "1  MULTIPOLYGON (((-34.917949532757795 -8.1431870...      1\n",
       "2  MULTIPOLYGON (((-34.88990531378399 -8.04694142...      1\n",
       "3  MULTIPOLYGON (((-34.90897830434088 -8.03109186...      1\n",
       "4  MULTIPOLYGON (((-34.86836686592692 -8.06483853...      1"
      ]
     },
     "execution_count": 19,
     "metadata": {},
     "output_type": "execute_result"
    }
   ],
   "source": [
    "cult_gdf.loc[cult_gdf['Tipo'] == 'Museu']['Geometry'].value_counts().reset_index()"
   ]
  },
  {
   "cell_type": "code",
   "execution_count": 20,
   "metadata": {
    "executionInfo": {
     "elapsed": 10,
     "status": "ok",
     "timestamp": 1740492938469,
     "user": {
      "displayName": "André Ferreira",
      "userId": "00188573913287098100"
     },
     "user_tz": 180
    },
    "id": "AIreIxZRBpBp"
   },
   "outputs": [],
   "source": [
    "bairro_gdf = gpd.GeoDataFrame(cult_gdf.loc[cult_gdf['Tipo'] == 'Museu']['Geometry'].value_counts().reset_index(), crs=\"EPSG:4326\", geometry='Geometry')"
   ]
  },
  {
   "cell_type": "code",
   "execution_count": 21,
   "metadata": {
    "executionInfo": {
     "elapsed": 9,
     "status": "ok",
     "timestamp": 1740492938471,
     "user": {
      "displayName": "André Ferreira",
      "userId": "00188573913287098100"
     },
     "user_tz": 180
    },
    "id": "fhH73_CJVBj-"
   },
   "outputs": [],
   "source": [
    "bairr_count_df = cult_gdf.loc[cult_gdf['Tipo'] == 'Museu']['Bairro'].value_counts().reset_index()"
   ]
  },
  {
   "cell_type": "code",
   "execution_count": 22,
   "metadata": {
    "colab": {
     "base_uri": "https://localhost:8080/"
    },
    "executionInfo": {
     "elapsed": 30,
     "status": "ok",
     "timestamp": 1740492938502,
     "user": {
      "displayName": "André Ferreira",
      "userId": "00188573913287098100"
     },
     "user_tz": 180
    },
    "id": "gfBzMbUQYMhi",
    "outputId": "e563ac3c-d1c5-406b-da8d-80b0cb1d227c"
   },
   "outputs": [
    {
     "data": {
      "text/plain": [
       "[0, 1, 2, 3, 4]"
      ]
     },
     "execution_count": 22,
     "metadata": {},
     "output_type": "execute_result"
    }
   ],
   "source": [
    "list(bairr_count_df.index)"
   ]
  },
  {
   "cell_type": "code",
   "execution_count": 23,
   "metadata": {
    "colab": {
     "base_uri": "https://localhost:8080/",
     "height": 0
    },
    "executionInfo": {
     "elapsed": 9,
     "status": "ok",
     "timestamp": 1740492938513,
     "user": {
      "displayName": "André Ferreira",
      "userId": "00188573913287098100"
     },
     "user_tz": 180
    },
    "id": "1xbnsc5ZVpze",
    "outputId": "f585f731-e3b0-49ee-ea01-e10b753472d8"
   },
   "outputs": [
    {
     "data": {
      "text/html": [
       "<div>\n",
       "<style scoped>\n",
       "    .dataframe tbody tr th:only-of-type {\n",
       "        vertical-align: middle;\n",
       "    }\n",
       "\n",
       "    .dataframe tbody tr th {\n",
       "        vertical-align: top;\n",
       "    }\n",
       "\n",
       "    .dataframe thead th {\n",
       "        text-align: right;\n",
       "    }\n",
       "</style>\n",
       "<table border=\"1\" class=\"dataframe\">\n",
       "  <thead>\n",
       "    <tr style=\"text-align: right;\">\n",
       "      <th></th>\n",
       "      <th>Bairro</th>\n",
       "      <th>count</th>\n",
       "    </tr>\n",
       "  </thead>\n",
       "  <tbody>\n",
       "    <tr>\n",
       "      <th>0</th>\n",
       "      <td>Sao Jose</td>\n",
       "      <td>5</td>\n",
       "    </tr>\n",
       "    <tr>\n",
       "      <th>1</th>\n",
       "      <td>Boa Viagem</td>\n",
       "      <td>1</td>\n",
       "    </tr>\n",
       "    <tr>\n",
       "      <th>2</th>\n",
       "      <td>Boa Vista</td>\n",
       "      <td>1</td>\n",
       "    </tr>\n",
       "    <tr>\n",
       "      <th>3</th>\n",
       "      <td>Parnamirim</td>\n",
       "      <td>1</td>\n",
       "    </tr>\n",
       "    <tr>\n",
       "      <th>4</th>\n",
       "      <td>Recife</td>\n",
       "      <td>1</td>\n",
       "    </tr>\n",
       "  </tbody>\n",
       "</table>\n",
       "</div>"
      ],
      "text/plain": [
       "       Bairro  count\n",
       "0    Sao Jose      5\n",
       "1  Boa Viagem      1\n",
       "2   Boa Vista      1\n",
       "3  Parnamirim      1\n",
       "4      Recife      1"
      ]
     },
     "execution_count": 23,
     "metadata": {},
     "output_type": "execute_result"
    }
   ],
   "source": [
    "bairr_count_df"
   ]
  },
  {
   "cell_type": "code",
   "execution_count": 24,
   "metadata": {
    "executionInfo": {
     "elapsed": 2,
     "status": "ok",
     "timestamp": 1740492938514,
     "user": {
      "displayName": "André Ferreira",
      "userId": "00188573913287098100"
     },
     "user_tz": 180
    },
    "id": "mw42GM9Eawqc"
   },
   "outputs": [],
   "source": [
    "bairro_gdf = bairro_gdf.merge(right=bairr_count_df, how='inner', left_index=True, right_index=True).drop(columns='count_x').rename(columns={'count_y': 'count'})"
   ]
  },
  {
   "cell_type": "code",
   "execution_count": 25,
   "metadata": {
    "colab": {
     "base_uri": "https://localhost:8080/",
     "height": 0
    },
    "executionInfo": {
     "elapsed": 59,
     "status": "ok",
     "timestamp": 1740492938571,
     "user": {
      "displayName": "André Ferreira",
      "userId": "00188573913287098100"
     },
     "user_tz": 180
    },
    "id": "F-bro7qebAn3",
    "outputId": "fa9461ca-7ed3-4a66-fef4-931333c0a32f"
   },
   "outputs": [
    {
     "data": {
      "text/plain": [
       "geopandas.geodataframe.GeoDataFrame"
      ]
     },
     "execution_count": 25,
     "metadata": {},
     "output_type": "execute_result"
    }
   ],
   "source": [
    "type(bairro_gdf)"
   ]
  },
  {
   "cell_type": "code",
   "execution_count": 26,
   "metadata": {
    "colab": {
     "base_uri": "https://localhost:8080/",
     "height": 0
    },
    "executionInfo": {
     "elapsed": 84,
     "status": "ok",
     "timestamp": 1740492938654,
     "user": {
      "displayName": "André Ferreira",
      "userId": "00188573913287098100"
     },
     "user_tz": 180
    },
    "id": "aygfLllXcMxn",
    "outputId": "e6fd0b49-ab01-4c64-86b2-fd32e8f31138"
   },
   "outputs": [
    {
     "data": {
      "text/html": [
       "<div>\n",
       "<style scoped>\n",
       "    .dataframe tbody tr th:only-of-type {\n",
       "        vertical-align: middle;\n",
       "    }\n",
       "\n",
       "    .dataframe tbody tr th {\n",
       "        vertical-align: top;\n",
       "    }\n",
       "\n",
       "    .dataframe thead th {\n",
       "        text-align: right;\n",
       "    }\n",
       "</style>\n",
       "<table border=\"1\" class=\"dataframe\">\n",
       "  <thead>\n",
       "    <tr style=\"text-align: right;\">\n",
       "      <th></th>\n",
       "      <th>Geometry</th>\n",
       "      <th>Bairro</th>\n",
       "      <th>count</th>\n",
       "    </tr>\n",
       "  </thead>\n",
       "  <tbody>\n",
       "    <tr>\n",
       "      <th>0</th>\n",
       "      <td>MULTIPOLYGON (((-34.87482 -8.06652, -34.87418 ...</td>\n",
       "      <td>Sao Jose</td>\n",
       "      <td>5</td>\n",
       "    </tr>\n",
       "    <tr>\n",
       "      <th>1</th>\n",
       "      <td>MULTIPOLYGON (((-34.91795 -8.14319, -34.91776 ...</td>\n",
       "      <td>Boa Viagem</td>\n",
       "      <td>1</td>\n",
       "    </tr>\n",
       "    <tr>\n",
       "      <th>2</th>\n",
       "      <td>MULTIPOLYGON (((-34.88991 -8.04694, -34.88987 ...</td>\n",
       "      <td>Boa Vista</td>\n",
       "      <td>1</td>\n",
       "    </tr>\n",
       "    <tr>\n",
       "      <th>3</th>\n",
       "      <td>MULTIPOLYGON (((-34.90898 -8.03109, -34.90881 ...</td>\n",
       "      <td>Parnamirim</td>\n",
       "      <td>1</td>\n",
       "    </tr>\n",
       "    <tr>\n",
       "      <th>4</th>\n",
       "      <td>MULTIPOLYGON (((-34.86837 -8.06484, -34.86972 ...</td>\n",
       "      <td>Recife</td>\n",
       "      <td>1</td>\n",
       "    </tr>\n",
       "  </tbody>\n",
       "</table>\n",
       "</div>"
      ],
      "text/plain": [
       "                                            Geometry      Bairro  count\n",
       "0  MULTIPOLYGON (((-34.87482 -8.06652, -34.87418 ...    Sao Jose      5\n",
       "1  MULTIPOLYGON (((-34.91795 -8.14319, -34.91776 ...  Boa Viagem      1\n",
       "2  MULTIPOLYGON (((-34.88991 -8.04694, -34.88987 ...   Boa Vista      1\n",
       "3  MULTIPOLYGON (((-34.90898 -8.03109, -34.90881 ...  Parnamirim      1\n",
       "4  MULTIPOLYGON (((-34.86837 -8.06484, -34.86972 ...      Recife      1"
      ]
     },
     "execution_count": 26,
     "metadata": {},
     "output_type": "execute_result"
    }
   ],
   "source": [
    "bairro_gdf"
   ]
  },
  {
   "cell_type": "code",
   "execution_count": 27,
   "metadata": {
    "executionInfo": {
     "elapsed": 1,
     "status": "ok",
     "timestamp": 1740492938656,
     "user": {
      "displayName": "André Ferreira",
      "userId": "00188573913287098100"
     },
     "user_tz": 180
    },
    "id": "X8Mx_4x4tmDE"
   },
   "outputs": [],
   "source": [
    "aux1 = bairr_count_df.join(bairro_gdf, how='inner', lsuffix='Geometry').drop(columns='countGeometry')"
   ]
  },
  {
   "cell_type": "code",
   "execution_count": 28,
   "metadata": {
    "colab": {
     "base_uri": "https://localhost:8080/",
     "height": 0
    },
    "executionInfo": {
     "elapsed": 375,
     "status": "ok",
     "timestamp": 1740492939033,
     "user": {
      "displayName": "André Ferreira",
      "userId": "00188573913287098100"
     },
     "user_tz": 180
    },
    "id": "0qBt_i44Unjt",
    "outputId": "91f211bb-62cf-4292-ebff-6f48ca0ca4cc"
   },
   "outputs": [
    {
     "data": {
      "text/plain": [
       "pandas.core.frame.DataFrame"
      ]
     },
     "execution_count": 28,
     "metadata": {},
     "output_type": "execute_result"
    }
   ],
   "source": [
    "type(aux1)"
   ]
  },
  {
   "cell_type": "code",
   "execution_count": 29,
   "metadata": {
    "colab": {
     "base_uri": "https://localhost:8080/",
     "height": 0
    },
    "executionInfo": {
     "elapsed": 24,
     "status": "ok",
     "timestamp": 1740492939058,
     "user": {
      "displayName": "André Ferreira",
      "userId": "00188573913287098100"
     },
     "user_tz": 180
    },
    "id": "5kv0ZrLkcAef",
    "outputId": "29905756-ffb2-426f-e5b4-ff723a3981ce"
   },
   "outputs": [
    {
     "data": {
      "text/html": [
       "<div>\n",
       "<style scoped>\n",
       "    .dataframe tbody tr th:only-of-type {\n",
       "        vertical-align: middle;\n",
       "    }\n",
       "\n",
       "    .dataframe tbody tr th {\n",
       "        vertical-align: top;\n",
       "    }\n",
       "\n",
       "    .dataframe thead th {\n",
       "        text-align: right;\n",
       "    }\n",
       "</style>\n",
       "<table border=\"1\" class=\"dataframe\">\n",
       "  <thead>\n",
       "    <tr style=\"text-align: right;\">\n",
       "      <th></th>\n",
       "      <th>BairroGeometry</th>\n",
       "      <th>Geometry</th>\n",
       "      <th>Bairro</th>\n",
       "      <th>count</th>\n",
       "    </tr>\n",
       "  </thead>\n",
       "  <tbody>\n",
       "    <tr>\n",
       "      <th>0</th>\n",
       "      <td>Sao Jose</td>\n",
       "      <td>MULTIPOLYGON (((-34.87482 -8.06652, -34.87418 ...</td>\n",
       "      <td>Sao Jose</td>\n",
       "      <td>5</td>\n",
       "    </tr>\n",
       "    <tr>\n",
       "      <th>1</th>\n",
       "      <td>Boa Viagem</td>\n",
       "      <td>MULTIPOLYGON (((-34.91795 -8.14319, -34.91776 ...</td>\n",
       "      <td>Boa Viagem</td>\n",
       "      <td>1</td>\n",
       "    </tr>\n",
       "    <tr>\n",
       "      <th>2</th>\n",
       "      <td>Boa Vista</td>\n",
       "      <td>MULTIPOLYGON (((-34.88991 -8.04694, -34.88987 ...</td>\n",
       "      <td>Boa Vista</td>\n",
       "      <td>1</td>\n",
       "    </tr>\n",
       "    <tr>\n",
       "      <th>3</th>\n",
       "      <td>Parnamirim</td>\n",
       "      <td>MULTIPOLYGON (((-34.90898 -8.03109, -34.90881 ...</td>\n",
       "      <td>Parnamirim</td>\n",
       "      <td>1</td>\n",
       "    </tr>\n",
       "    <tr>\n",
       "      <th>4</th>\n",
       "      <td>Recife</td>\n",
       "      <td>MULTIPOLYGON (((-34.86837 -8.06484, -34.86972 ...</td>\n",
       "      <td>Recife</td>\n",
       "      <td>1</td>\n",
       "    </tr>\n",
       "  </tbody>\n",
       "</table>\n",
       "</div>"
      ],
      "text/plain": [
       "  BairroGeometry                                           Geometry  \\\n",
       "0       Sao Jose  MULTIPOLYGON (((-34.87482 -8.06652, -34.87418 ...   \n",
       "1     Boa Viagem  MULTIPOLYGON (((-34.91795 -8.14319, -34.91776 ...   \n",
       "2      Boa Vista  MULTIPOLYGON (((-34.88991 -8.04694, -34.88987 ...   \n",
       "3     Parnamirim  MULTIPOLYGON (((-34.90898 -8.03109, -34.90881 ...   \n",
       "4         Recife  MULTIPOLYGON (((-34.86837 -8.06484, -34.86972 ...   \n",
       "\n",
       "       Bairro  count  \n",
       "0    Sao Jose      5  \n",
       "1  Boa Viagem      1  \n",
       "2   Boa Vista      1  \n",
       "3  Parnamirim      1  \n",
       "4      Recife      1  "
      ]
     },
     "execution_count": 29,
     "metadata": {},
     "output_type": "execute_result"
    }
   ],
   "source": [
    "aux1"
   ]
  },
  {
   "cell_type": "markdown",
   "metadata": {
    "id": "-K6HND6Wln_e"
   },
   "source": [
    "### **Quantidade de teatros nos bairros do Recife**"
   ]
  },
  {
   "cell_type": "code",
   "execution_count": 30,
   "metadata": {
    "colab": {
     "base_uri": "https://localhost:8080/",
     "height": 0
    },
    "executionInfo": {
     "elapsed": 53,
     "status": "ok",
     "timestamp": 1740492939111,
     "user": {
      "displayName": "André Ferreira",
      "userId": "00188573913287098100"
     },
     "user_tz": 180
    },
    "id": "_bt85JjVlv4K",
    "outputId": "fb4e818e-d561-41b3-99ea-ec8a78f5a330"
   },
   "outputs": [
    {
     "data": {
      "text/html": [
       "<div>\n",
       "<style scoped>\n",
       "    .dataframe tbody tr th:only-of-type {\n",
       "        vertical-align: middle;\n",
       "    }\n",
       "\n",
       "    .dataframe tbody tr th {\n",
       "        vertical-align: top;\n",
       "    }\n",
       "\n",
       "    .dataframe thead th {\n",
       "        text-align: right;\n",
       "    }\n",
       "</style>\n",
       "<table border=\"1\" class=\"dataframe\">\n",
       "  <thead>\n",
       "    <tr style=\"text-align: right;\">\n",
       "      <th></th>\n",
       "      <th>Bairro</th>\n",
       "      <th>count</th>\n",
       "    </tr>\n",
       "  </thead>\n",
       "  <tbody>\n",
       "    <tr>\n",
       "      <th>0</th>\n",
       "      <td>Recife</td>\n",
       "      <td>2</td>\n",
       "    </tr>\n",
       "    <tr>\n",
       "      <th>1</th>\n",
       "      <td>Pina</td>\n",
       "      <td>1</td>\n",
       "    </tr>\n",
       "    <tr>\n",
       "      <th>2</th>\n",
       "      <td>Santo Antonio</td>\n",
       "      <td>1</td>\n",
       "    </tr>\n",
       "    <tr>\n",
       "      <th>3</th>\n",
       "      <td>Boa Vista</td>\n",
       "      <td>1</td>\n",
       "    </tr>\n",
       "    <tr>\n",
       "      <th>4</th>\n",
       "      <td>Boa Viagem</td>\n",
       "      <td>1</td>\n",
       "    </tr>\n",
       "  </tbody>\n",
       "</table>\n",
       "</div>"
      ],
      "text/plain": [
       "          Bairro  count\n",
       "0         Recife      2\n",
       "1           Pina      1\n",
       "2  Santo Antonio      1\n",
       "3      Boa Vista      1\n",
       "4     Boa Viagem      1"
      ]
     },
     "execution_count": 30,
     "metadata": {},
     "output_type": "execute_result"
    }
   ],
   "source": [
    "cult_gdf.loc[cult_gdf['Tipo'] == 'Teatro']['Bairro'].value_counts().reset_index()"
   ]
  },
  {
   "cell_type": "code",
   "execution_count": 31,
   "metadata": {
    "executionInfo": {
     "elapsed": 6,
     "status": "ok",
     "timestamp": 1740492939127,
     "user": {
      "displayName": "André Ferreira",
      "userId": "00188573913287098100"
     },
     "user_tz": 180
    },
    "id": "bCeoDHWqOW8n"
   },
   "outputs": [],
   "source": [
    "teatro_gdf = gpd.GeoDataFrame(cult_gdf.loc[cult_gdf['Tipo'] == 'Teatro']['Geometry'].value_counts().reset_index(), crs='EPSG:4326', geometry='Geometry')"
   ]
  },
  {
   "cell_type": "code",
   "execution_count": 32,
   "metadata": {
    "colab": {
     "base_uri": "https://localhost:8080/",
     "height": 0
    },
    "executionInfo": {
     "elapsed": 42,
     "status": "ok",
     "timestamp": 1740492939174,
     "user": {
      "displayName": "André Ferreira",
      "userId": "00188573913287098100"
     },
     "user_tz": 180
    },
    "id": "TvNhGIr0O_6f",
    "outputId": "01799562-f668-4318-fcfa-e0201c8bbebc"
   },
   "outputs": [
    {
     "data": {
      "text/plain": [
       "geopandas.geodataframe.GeoDataFrame"
      ]
     },
     "execution_count": 32,
     "metadata": {},
     "output_type": "execute_result"
    }
   ],
   "source": [
    "type(teatro_gdf)"
   ]
  },
  {
   "cell_type": "code",
   "execution_count": 33,
   "metadata": {
    "executionInfo": {
     "elapsed": 14,
     "status": "ok",
     "timestamp": 1740492939189,
     "user": {
      "displayName": "André Ferreira",
      "userId": "00188573913287098100"
     },
     "user_tz": 180
    },
    "id": "--6yulLOPH-m"
   },
   "outputs": [],
   "source": [
    "teatro_gdf = teatro_gdf.merge(right=cult_gdf.loc[cult_gdf['Tipo'] == 'Teatro']['Bairro'].value_counts().reset_index(), left_index=True, right_index=True).drop(columns='count_x').rename(columns={'count_y': 'count'})"
   ]
  },
  {
   "cell_type": "code",
   "execution_count": 34,
   "metadata": {
    "colab": {
     "base_uri": "https://localhost:8080/",
     "height": 0
    },
    "executionInfo": {
     "elapsed": 82,
     "status": "ok",
     "timestamp": 1740492939272,
     "user": {
      "displayName": "André Ferreira",
      "userId": "00188573913287098100"
     },
     "user_tz": 180
    },
    "id": "RW9I-L5FPjsN",
    "outputId": "0178002f-4224-46ee-e4b7-c9ca69c7a18d"
   },
   "outputs": [
    {
     "data": {
      "text/html": [
       "<div>\n",
       "<style scoped>\n",
       "    .dataframe tbody tr th:only-of-type {\n",
       "        vertical-align: middle;\n",
       "    }\n",
       "\n",
       "    .dataframe tbody tr th {\n",
       "        vertical-align: top;\n",
       "    }\n",
       "\n",
       "    .dataframe thead th {\n",
       "        text-align: right;\n",
       "    }\n",
       "</style>\n",
       "<table border=\"1\" class=\"dataframe\">\n",
       "  <thead>\n",
       "    <tr style=\"text-align: right;\">\n",
       "      <th></th>\n",
       "      <th>Geometry</th>\n",
       "      <th>Bairro</th>\n",
       "      <th>count</th>\n",
       "    </tr>\n",
       "  </thead>\n",
       "  <tbody>\n",
       "    <tr>\n",
       "      <th>0</th>\n",
       "      <td>MULTIPOLYGON (((-34.86837 -8.06484, -34.86972 ...</td>\n",
       "      <td>Recife</td>\n",
       "      <td>2</td>\n",
       "    </tr>\n",
       "    <tr>\n",
       "      <th>1</th>\n",
       "      <td>MULTIPOLYGON (((-34.88369 -8.07809, -34.88201 ...</td>\n",
       "      <td>Pina</td>\n",
       "      <td>1</td>\n",
       "    </tr>\n",
       "    <tr>\n",
       "      <th>2</th>\n",
       "      <td>MULTIPOLYGON (((-34.87408 -8.0595, -34.87404 -...</td>\n",
       "      <td>Santo Antonio</td>\n",
       "      <td>1</td>\n",
       "    </tr>\n",
       "    <tr>\n",
       "      <th>3</th>\n",
       "      <td>MULTIPOLYGON (((-34.88991 -8.04694, -34.88987 ...</td>\n",
       "      <td>Boa Vista</td>\n",
       "      <td>1</td>\n",
       "    </tr>\n",
       "    <tr>\n",
       "      <th>4</th>\n",
       "      <td>MULTIPOLYGON (((-34.91795 -8.14319, -34.91776 ...</td>\n",
       "      <td>Boa Viagem</td>\n",
       "      <td>1</td>\n",
       "    </tr>\n",
       "  </tbody>\n",
       "</table>\n",
       "</div>"
      ],
      "text/plain": [
       "                                            Geometry         Bairro  count\n",
       "0  MULTIPOLYGON (((-34.86837 -8.06484, -34.86972 ...         Recife      2\n",
       "1  MULTIPOLYGON (((-34.88369 -8.07809, -34.88201 ...           Pina      1\n",
       "2  MULTIPOLYGON (((-34.87408 -8.0595, -34.87404 -...  Santo Antonio      1\n",
       "3  MULTIPOLYGON (((-34.88991 -8.04694, -34.88987 ...      Boa Vista      1\n",
       "4  MULTIPOLYGON (((-34.91795 -8.14319, -34.91776 ...     Boa Viagem      1"
      ]
     },
     "execution_count": 34,
     "metadata": {},
     "output_type": "execute_result"
    }
   ],
   "source": [
    "teatro_gdf"
   ]
  },
  {
   "cell_type": "markdown",
   "metadata": {
    "id": "8pzw74Os8SkR"
   },
   "source": [
    "### **Quantidade total de público nos museus do Recife**"
   ]
  },
  {
   "cell_type": "code",
   "execution_count": 68,
   "metadata": {
    "colab": {
     "base_uri": "https://localhost:8080/",
     "height": 206
    },
    "executionInfo": {
     "elapsed": 36,
     "status": "ok",
     "timestamp": 1740492939309,
     "user": {
      "displayName": "André Ferreira",
      "userId": "00188573913287098100"
     },
     "user_tz": 180
    },
    "id": "v8XqY4bVpm0K",
    "outputId": "b898a48d-af7a-4964-aede-6cc43d6dbdfd"
   },
   "outputs": [
    {
     "data": {
      "text/html": [
       "<div>\n",
       "<style scoped>\n",
       "    .dataframe tbody tr th:only-of-type {\n",
       "        vertical-align: middle;\n",
       "    }\n",
       "\n",
       "    .dataframe tbody tr th {\n",
       "        vertical-align: top;\n",
       "    }\n",
       "\n",
       "    .dataframe thead th {\n",
       "        text-align: right;\n",
       "    }\n",
       "</style>\n",
       "<table border=\"1\" class=\"dataframe\">\n",
       "  <thead>\n",
       "    <tr style=\"text-align: right;\">\n",
       "      <th></th>\n",
       "      <th>Ano</th>\n",
       "      <th>Tipo</th>\n",
       "      <th>Equipamento</th>\n",
       "      <th>Bairro</th>\n",
       "      <th>Janeiro</th>\n",
       "      <th>Fevereiro</th>\n",
       "      <th>Marco</th>\n",
       "      <th>Abril</th>\n",
       "      <th>Maio</th>\n",
       "      <th>Junho</th>\n",
       "      <th>Julho</th>\n",
       "      <th>Agosto</th>\n",
       "      <th>Setembro</th>\n",
       "      <th>Outubro</th>\n",
       "      <th>Novembro</th>\n",
       "      <th>Dezembro</th>\n",
       "      <th>Obs</th>\n",
       "    </tr>\n",
       "  </thead>\n",
       "  <tbody>\n",
       "    <tr>\n",
       "      <th>0</th>\n",
       "      <td>2023</td>\n",
       "      <td>Museu</td>\n",
       "      <td>Casa do Carnaval</td>\n",
       "      <td>Sao Jose</td>\n",
       "      <td>321</td>\n",
       "      <td>172</td>\n",
       "      <td>222</td>\n",
       "      <td>240</td>\n",
       "      <td>317</td>\n",
       "      <td>206</td>\n",
       "      <td>255</td>\n",
       "      <td>194</td>\n",
       "      <td>180</td>\n",
       "      <td>176</td>\n",
       "      <td>142</td>\n",
       "      <td>44</td>\n",
       "      <td>&lt;NA&gt;</td>\n",
       "    </tr>\n",
       "    <tr>\n",
       "      <th>1</th>\n",
       "      <td>2023</td>\n",
       "      <td>Museu</td>\n",
       "      <td>Centro de Design do Recife</td>\n",
       "      <td>Sao Jose</td>\n",
       "      <td>35</td>\n",
       "      <td>100</td>\n",
       "      <td>124</td>\n",
       "      <td>139</td>\n",
       "      <td>127</td>\n",
       "      <td>130</td>\n",
       "      <td>89</td>\n",
       "      <td>98</td>\n",
       "      <td>106</td>\n",
       "      <td>128</td>\n",
       "      <td>120</td>\n",
       "      <td>93</td>\n",
       "      <td>&lt;NA&gt;</td>\n",
       "    </tr>\n",
       "    <tr>\n",
       "      <th>2</th>\n",
       "      <td>2023</td>\n",
       "      <td>Museu</td>\n",
       "      <td>Galeria Janete Costa</td>\n",
       "      <td>Boa Viagem</td>\n",
       "      <td>242</td>\n",
       "      <td>0</td>\n",
       "      <td>0</td>\n",
       "      <td>1099</td>\n",
       "      <td>180</td>\n",
       "      <td>297</td>\n",
       "      <td>401</td>\n",
       "      <td>434</td>\n",
       "      <td>566</td>\n",
       "      <td>1464</td>\n",
       "      <td>715</td>\n",
       "      <td>273</td>\n",
       "      <td>em manutenção em fevereiro/março</td>\n",
       "    </tr>\n",
       "    <tr>\n",
       "      <th>3</th>\n",
       "      <td>2023</td>\n",
       "      <td>Museu</td>\n",
       "      <td>Museu de Arte Moderna Aloisio Magalhaes</td>\n",
       "      <td>Boa Vista</td>\n",
       "      <td>523</td>\n",
       "      <td>161</td>\n",
       "      <td>599</td>\n",
       "      <td>1196</td>\n",
       "      <td>1429</td>\n",
       "      <td>902</td>\n",
       "      <td>0</td>\n",
       "      <td>600</td>\n",
       "      <td>1320</td>\n",
       "      <td>24</td>\n",
       "      <td>737</td>\n",
       "      <td>414</td>\n",
       "      <td>Em manutenção em julho</td>\n",
       "    </tr>\n",
       "    <tr>\n",
       "      <th>4</th>\n",
       "      <td>2023</td>\n",
       "      <td>Museu</td>\n",
       "      <td>Museu de Arte Popular</td>\n",
       "      <td>Sao Jose</td>\n",
       "      <td>127</td>\n",
       "      <td>55</td>\n",
       "      <td>220</td>\n",
       "      <td>135</td>\n",
       "      <td>103</td>\n",
       "      <td>128</td>\n",
       "      <td>104</td>\n",
       "      <td>101</td>\n",
       "      <td>135</td>\n",
       "      <td>129</td>\n",
       "      <td>141</td>\n",
       "      <td>79</td>\n",
       "      <td>&lt;NA&gt;</td>\n",
       "    </tr>\n",
       "  </tbody>\n",
       "</table>\n",
       "</div>"
      ],
      "text/plain": [
       "    Ano   Tipo                              Equipamento      Bairro  Janeiro  \\\n",
       "0  2023  Museu                         Casa do Carnaval    Sao Jose      321   \n",
       "1  2023  Museu               Centro de Design do Recife    Sao Jose       35   \n",
       "2  2023  Museu                     Galeria Janete Costa  Boa Viagem      242   \n",
       "3  2023  Museu  Museu de Arte Moderna Aloisio Magalhaes   Boa Vista      523   \n",
       "4  2023  Museu                    Museu de Arte Popular    Sao Jose      127   \n",
       "\n",
       "   Fevereiro  Marco  Abril  Maio  Junho  Julho  Agosto  Setembro  Outubro  \\\n",
       "0        172    222    240   317    206    255     194       180      176   \n",
       "1        100    124    139   127    130     89      98       106      128   \n",
       "2          0      0   1099   180    297    401     434       566     1464   \n",
       "3        161    599   1196  1429    902      0     600      1320       24   \n",
       "4         55    220    135   103    128    104     101       135      129   \n",
       "\n",
       "   Novembro  Dezembro                               Obs  \n",
       "0       142        44                              <NA>  \n",
       "1       120        93                              <NA>  \n",
       "2       715       273  em manutenção em fevereiro/março  \n",
       "3       737       414            Em manutenção em julho  \n",
       "4       141        79                              <NA>  "
      ]
     },
     "execution_count": 68,
     "metadata": {},
     "output_type": "execute_result"
    }
   ],
   "source": [
    "total_pub_museus = df.loc[df['Tipo'] == 'Museu']\n",
    "total_pub_museus.head()"
   ]
  },
  {
   "cell_type": "code",
   "execution_count": 70,
   "metadata": {
    "executionInfo": {
     "elapsed": 6,
     "status": "ok",
     "timestamp": 1740492939309,
     "user": {
      "displayName": "André Ferreira",
      "userId": "00188573913287098100"
     },
     "user_tz": 180
    },
    "id": "efrGyByk3xdF"
   },
   "outputs": [],
   "source": [
    "meses_columns = [mes[:3] for mes in total_pub_museus.columns[4:-1]]"
   ]
  },
  {
   "cell_type": "code",
   "execution_count": 37,
   "metadata": {
    "colab": {
     "base_uri": "https://localhost:8080/"
    },
    "executionInfo": {
     "elapsed": 4,
     "status": "ok",
     "timestamp": 1740492939310,
     "user": {
      "displayName": "André Ferreira",
      "userId": "00188573913287098100"
     },
     "user_tz": 180
    },
    "id": "hAEAkU5n4DJH",
    "outputId": "513ab3a7-188f-4aeb-96c7-1aaed66724c6"
   },
   "outputs": [
    {
     "data": {
      "text/plain": [
       "['Jan',\n",
       " 'Fev',\n",
       " 'Mar',\n",
       " 'Abr',\n",
       " 'Mai',\n",
       " 'Jun',\n",
       " 'Jul',\n",
       " 'Ago',\n",
       " 'Set',\n",
       " 'Out',\n",
       " 'Nov',\n",
       " 'Dez']"
      ]
     },
     "execution_count": 37,
     "metadata": {},
     "output_type": "execute_result"
    }
   ],
   "source": [
    "meses_columns"
   ]
  },
  {
   "cell_type": "code",
   "execution_count": 75,
   "metadata": {
    "executionInfo": {
     "elapsed": 2,
     "status": "ok",
     "timestamp": 1740492939310,
     "user": {
      "displayName": "André Ferreira",
      "userId": "00188573913287098100"
     },
     "user_tz": 180
    },
    "id": "2Z6u2ood7S9_"
   },
   "outputs": [],
   "source": [
    "sum_pub_museus = [int(total_pub_museus[col].sum()) for col in total_pub_museus.columns[4:-1]]"
   ]
  },
  {
   "cell_type": "code",
   "execution_count": 76,
   "metadata": {
    "colab": {
     "base_uri": "https://localhost:8080/"
    },
    "executionInfo": {
     "elapsed": 5,
     "status": "ok",
     "timestamp": 1740492939313,
     "user": {
      "displayName": "André Ferreira",
      "userId": "00188573913287098100"
     },
     "user_tz": 180
    },
    "id": "-unFCe1i7kAa",
    "outputId": "d8f1d4a3-ff76-4f50-ed27-d3f2b2723ded"
   },
   "outputs": [
    {
     "data": {
      "text/plain": [
       "[21141,\n",
       " 9032,\n",
       " 13894,\n",
       " 14034,\n",
       " 12485,\n",
       " 11777,\n",
       " 14446,\n",
       " 12333,\n",
       " 30457,\n",
       " 18249,\n",
       " 16334,\n",
       " 11069]"
      ]
     },
     "execution_count": 76,
     "metadata": {},
     "output_type": "execute_result"
    }
   ],
   "source": [
    "sum_pub_museus"
   ]
  },
  {
   "cell_type": "markdown",
   "metadata": {
    "id": "fyZnQ7Or9wrx"
   },
   "source": [
    "### **Ranking de audiência nos museus por equipamento**"
   ]
  },
  {
   "cell_type": "code",
   "execution_count": 40,
   "metadata": {
    "colab": {
     "base_uri": "https://localhost:8080/",
     "height": 0
    },
    "executionInfo": {
     "elapsed": 54,
     "status": "ok",
     "timestamp": 1740492939367,
     "user": {
      "displayName": "André Ferreira",
      "userId": "00188573913287098100"
     },
     "user_tz": 180
    },
    "id": "ZLajJuZV997B",
    "outputId": "11381e65-1a27-4b5f-f07a-8159fae05d65"
   },
   "outputs": [
    {
     "data": {
      "text/html": [
       "<div>\n",
       "<style scoped>\n",
       "    .dataframe tbody tr th:only-of-type {\n",
       "        vertical-align: middle;\n",
       "    }\n",
       "\n",
       "    .dataframe tbody tr th {\n",
       "        vertical-align: top;\n",
       "    }\n",
       "\n",
       "    .dataframe thead th {\n",
       "        text-align: right;\n",
       "    }\n",
       "</style>\n",
       "<table border=\"1\" class=\"dataframe\">\n",
       "  <thead>\n",
       "    <tr style=\"text-align: right;\">\n",
       "      <th></th>\n",
       "      <th>Equipamento</th>\n",
       "      <th>Janeiro</th>\n",
       "      <th>Fevereiro</th>\n",
       "      <th>Marco</th>\n",
       "      <th>Abril</th>\n",
       "      <th>Maio</th>\n",
       "      <th>Junho</th>\n",
       "      <th>Julho</th>\n",
       "      <th>Agosto</th>\n",
       "      <th>Setembro</th>\n",
       "      <th>Outubro</th>\n",
       "      <th>Novembro</th>\n",
       "      <th>Dezembro</th>\n",
       "    </tr>\n",
       "  </thead>\n",
       "  <tbody>\n",
       "    <tr>\n",
       "      <th>0</th>\n",
       "      <td>Casa do Carnaval</td>\n",
       "      <td>321</td>\n",
       "      <td>172</td>\n",
       "      <td>222</td>\n",
       "      <td>240</td>\n",
       "      <td>317</td>\n",
       "      <td>206</td>\n",
       "      <td>255</td>\n",
       "      <td>194</td>\n",
       "      <td>180</td>\n",
       "      <td>176</td>\n",
       "      <td>142</td>\n",
       "      <td>44</td>\n",
       "    </tr>\n",
       "    <tr>\n",
       "      <th>1</th>\n",
       "      <td>Centro de Design do Recife</td>\n",
       "      <td>35</td>\n",
       "      <td>100</td>\n",
       "      <td>124</td>\n",
       "      <td>139</td>\n",
       "      <td>127</td>\n",
       "      <td>130</td>\n",
       "      <td>89</td>\n",
       "      <td>98</td>\n",
       "      <td>106</td>\n",
       "      <td>128</td>\n",
       "      <td>120</td>\n",
       "      <td>93</td>\n",
       "    </tr>\n",
       "    <tr>\n",
       "      <th>2</th>\n",
       "      <td>Galeria Janete Costa</td>\n",
       "      <td>242</td>\n",
       "      <td>0</td>\n",
       "      <td>0</td>\n",
       "      <td>1099</td>\n",
       "      <td>180</td>\n",
       "      <td>297</td>\n",
       "      <td>401</td>\n",
       "      <td>434</td>\n",
       "      <td>566</td>\n",
       "      <td>1464</td>\n",
       "      <td>715</td>\n",
       "      <td>273</td>\n",
       "    </tr>\n",
       "    <tr>\n",
       "      <th>3</th>\n",
       "      <td>Museu de Arte Moderna Aloisio Magalhaes</td>\n",
       "      <td>523</td>\n",
       "      <td>161</td>\n",
       "      <td>599</td>\n",
       "      <td>1196</td>\n",
       "      <td>1429</td>\n",
       "      <td>902</td>\n",
       "      <td>0</td>\n",
       "      <td>600</td>\n",
       "      <td>1320</td>\n",
       "      <td>24</td>\n",
       "      <td>737</td>\n",
       "      <td>414</td>\n",
       "    </tr>\n",
       "    <tr>\n",
       "      <th>4</th>\n",
       "      <td>Museu de Arte Popular</td>\n",
       "      <td>127</td>\n",
       "      <td>55</td>\n",
       "      <td>220</td>\n",
       "      <td>135</td>\n",
       "      <td>103</td>\n",
       "      <td>128</td>\n",
       "      <td>104</td>\n",
       "      <td>101</td>\n",
       "      <td>135</td>\n",
       "      <td>129</td>\n",
       "      <td>141</td>\n",
       "      <td>79</td>\n",
       "    </tr>\n",
       "    <tr>\n",
       "      <th>5</th>\n",
       "      <td>Memorial Chico Science</td>\n",
       "      <td>265</td>\n",
       "      <td>90</td>\n",
       "      <td>264</td>\n",
       "      <td>218</td>\n",
       "      <td>110</td>\n",
       "      <td>115</td>\n",
       "      <td>187</td>\n",
       "      <td>199</td>\n",
       "      <td>212</td>\n",
       "      <td>190</td>\n",
       "      <td>146</td>\n",
       "      <td>132</td>\n",
       "    </tr>\n",
       "    <tr>\n",
       "      <th>6</th>\n",
       "      <td>Memorial Luiz Gonzaga</td>\n",
       "      <td>381</td>\n",
       "      <td>160</td>\n",
       "      <td>201</td>\n",
       "      <td>120</td>\n",
       "      <td>90</td>\n",
       "      <td>93</td>\n",
       "      <td>115</td>\n",
       "      <td>146</td>\n",
       "      <td>175</td>\n",
       "      <td>246</td>\n",
       "      <td>195</td>\n",
       "      <td>192</td>\n",
       "    </tr>\n",
       "    <tr>\n",
       "      <th>7</th>\n",
       "      <td>Museu Murillo la Greca</td>\n",
       "      <td>290</td>\n",
       "      <td>120</td>\n",
       "      <td>560</td>\n",
       "      <td>180</td>\n",
       "      <td>490</td>\n",
       "      <td>190</td>\n",
       "      <td>610</td>\n",
       "      <td>530</td>\n",
       "      <td>380</td>\n",
       "      <td>380</td>\n",
       "      <td>280</td>\n",
       "      <td>170</td>\n",
       "    </tr>\n",
       "    <tr>\n",
       "      <th>8</th>\n",
       "      <td>Paco do Frevo</td>\n",
       "      <td>18957</td>\n",
       "      <td>8174</td>\n",
       "      <td>11704</td>\n",
       "      <td>10707</td>\n",
       "      <td>9639</td>\n",
       "      <td>9716</td>\n",
       "      <td>12685</td>\n",
       "      <td>10031</td>\n",
       "      <td>27383</td>\n",
       "      <td>15512</td>\n",
       "      <td>13858</td>\n",
       "      <td>9672</td>\n",
       "    </tr>\n",
       "  </tbody>\n",
       "</table>\n",
       "</div>"
      ],
      "text/plain": [
       "                               Equipamento  Janeiro  Fevereiro  Marco  Abril  \\\n",
       "0                         Casa do Carnaval      321        172    222    240   \n",
       "1               Centro de Design do Recife       35        100    124    139   \n",
       "2                     Galeria Janete Costa      242          0      0   1099   \n",
       "3  Museu de Arte Moderna Aloisio Magalhaes      523        161    599   1196   \n",
       "4                    Museu de Arte Popular      127         55    220    135   \n",
       "5                   Memorial Chico Science      265         90    264    218   \n",
       "6                    Memorial Luiz Gonzaga      381        160    201    120   \n",
       "7                   Museu Murillo la Greca      290        120    560    180   \n",
       "8                            Paco do Frevo    18957       8174  11704  10707   \n",
       "\n",
       "   Maio  Junho  Julho  Agosto  Setembro  Outubro  Novembro  Dezembro  \n",
       "0   317    206    255     194       180      176       142        44  \n",
       "1   127    130     89      98       106      128       120        93  \n",
       "2   180    297    401     434       566     1464       715       273  \n",
       "3  1429    902      0     600      1320       24       737       414  \n",
       "4   103    128    104     101       135      129       141        79  \n",
       "5   110    115    187     199       212      190       146       132  \n",
       "6    90     93    115     146       175      246       195       192  \n",
       "7   490    190    610     530       380      380       280       170  \n",
       "8  9639   9716  12685   10031     27383    15512     13858      9672  "
      ]
     },
     "execution_count": 40,
     "metadata": {},
     "output_type": "execute_result"
    }
   ],
   "source": [
    "rank_museus = df.loc[df['Tipo'] == 'Museu'].drop(columns=['Ano', 'Tipo', 'Obs', 'Bairro'])\n",
    "rank_museus"
   ]
  },
  {
   "cell_type": "code",
   "execution_count": 77,
   "metadata": {
    "executionInfo": {
     "elapsed": 1,
     "status": "ok",
     "timestamp": 1740492939370,
     "user": {
      "displayName": "André Ferreira",
      "userId": "00188573913287098100"
     },
     "user_tz": 180
    },
    "id": "r8xPqeDb_JEo"
   },
   "outputs": [],
   "source": [
    "rank_museus['Total'] = rank_museus[rank_museus.columns[2:]].sum(axis=1)"
   ]
  },
  {
   "cell_type": "code",
   "execution_count": 78,
   "metadata": {
    "executionInfo": {
     "elapsed": 1,
     "status": "ok",
     "timestamp": 1740492939371,
     "user": {
      "displayName": "André Ferreira",
      "userId": "00188573913287098100"
     },
     "user_tz": 180
    },
    "id": "PRZnFcKeEDfT"
   },
   "outputs": [],
   "source": [
    "rank_df = rank_museus.sort_values(by='Total', ascending=True).reset_index(drop=True)"
   ]
  },
  {
   "cell_type": "code",
   "execution_count": 79,
   "metadata": {
    "colab": {
     "base_uri": "https://localhost:8080/",
     "height": 0
    },
    "executionInfo": {
     "elapsed": 49,
     "status": "ok",
     "timestamp": 1740492939421,
     "user": {
      "displayName": "André Ferreira",
      "userId": "00188573913287098100"
     },
     "user_tz": 180
    },
    "id": "otN4slvKFKa3",
    "outputId": "b55a0175-ccc7-44bf-ae94-f2e218405051"
   },
   "outputs": [
    {
     "data": {
      "text/html": [
       "<div>\n",
       "<style scoped>\n",
       "    .dataframe tbody tr th:only-of-type {\n",
       "        vertical-align: middle;\n",
       "    }\n",
       "\n",
       "    .dataframe tbody tr th {\n",
       "        vertical-align: top;\n",
       "    }\n",
       "\n",
       "    .dataframe thead th {\n",
       "        text-align: right;\n",
       "    }\n",
       "</style>\n",
       "<table border=\"1\" class=\"dataframe\">\n",
       "  <thead>\n",
       "    <tr style=\"text-align: right;\">\n",
       "      <th></th>\n",
       "      <th>Equipamento</th>\n",
       "      <th>Janeiro</th>\n",
       "      <th>Fevereiro</th>\n",
       "      <th>Marco</th>\n",
       "      <th>Abril</th>\n",
       "      <th>Maio</th>\n",
       "      <th>Junho</th>\n",
       "      <th>Julho</th>\n",
       "      <th>Agosto</th>\n",
       "      <th>Setembro</th>\n",
       "      <th>Outubro</th>\n",
       "      <th>Novembro</th>\n",
       "      <th>Dezembro</th>\n",
       "      <th>Total</th>\n",
       "    </tr>\n",
       "  </thead>\n",
       "  <tbody>\n",
       "    <tr>\n",
       "      <th>0</th>\n",
       "      <td>Centro de Design do Recife</td>\n",
       "      <td>35</td>\n",
       "      <td>100</td>\n",
       "      <td>124</td>\n",
       "      <td>139</td>\n",
       "      <td>127</td>\n",
       "      <td>130</td>\n",
       "      <td>89</td>\n",
       "      <td>98</td>\n",
       "      <td>106</td>\n",
       "      <td>128</td>\n",
       "      <td>120</td>\n",
       "      <td>93</td>\n",
       "      <td>2508</td>\n",
       "    </tr>\n",
       "    <tr>\n",
       "      <th>1</th>\n",
       "      <td>Museu de Arte Popular</td>\n",
       "      <td>127</td>\n",
       "      <td>55</td>\n",
       "      <td>220</td>\n",
       "      <td>135</td>\n",
       "      <td>103</td>\n",
       "      <td>128</td>\n",
       "      <td>104</td>\n",
       "      <td>101</td>\n",
       "      <td>135</td>\n",
       "      <td>129</td>\n",
       "      <td>141</td>\n",
       "      <td>79</td>\n",
       "      <td>2660</td>\n",
       "    </tr>\n",
       "    <tr>\n",
       "      <th>2</th>\n",
       "      <td>Memorial Luiz Gonzaga</td>\n",
       "      <td>381</td>\n",
       "      <td>160</td>\n",
       "      <td>201</td>\n",
       "      <td>120</td>\n",
       "      <td>90</td>\n",
       "      <td>93</td>\n",
       "      <td>115</td>\n",
       "      <td>146</td>\n",
       "      <td>175</td>\n",
       "      <td>246</td>\n",
       "      <td>195</td>\n",
       "      <td>192</td>\n",
       "      <td>3466</td>\n",
       "    </tr>\n",
       "    <tr>\n",
       "      <th>3</th>\n",
       "      <td>Memorial Chico Science</td>\n",
       "      <td>265</td>\n",
       "      <td>90</td>\n",
       "      <td>264</td>\n",
       "      <td>218</td>\n",
       "      <td>110</td>\n",
       "      <td>115</td>\n",
       "      <td>187</td>\n",
       "      <td>199</td>\n",
       "      <td>212</td>\n",
       "      <td>190</td>\n",
       "      <td>146</td>\n",
       "      <td>132</td>\n",
       "      <td>3726</td>\n",
       "    </tr>\n",
       "    <tr>\n",
       "      <th>4</th>\n",
       "      <td>Casa do Carnaval</td>\n",
       "      <td>321</td>\n",
       "      <td>172</td>\n",
       "      <td>222</td>\n",
       "      <td>240</td>\n",
       "      <td>317</td>\n",
       "      <td>206</td>\n",
       "      <td>255</td>\n",
       "      <td>194</td>\n",
       "      <td>180</td>\n",
       "      <td>176</td>\n",
       "      <td>142</td>\n",
       "      <td>44</td>\n",
       "      <td>4296</td>\n",
       "    </tr>\n",
       "    <tr>\n",
       "      <th>5</th>\n",
       "      <td>Museu Murillo la Greca</td>\n",
       "      <td>290</td>\n",
       "      <td>120</td>\n",
       "      <td>560</td>\n",
       "      <td>180</td>\n",
       "      <td>490</td>\n",
       "      <td>190</td>\n",
       "      <td>610</td>\n",
       "      <td>530</td>\n",
       "      <td>380</td>\n",
       "      <td>380</td>\n",
       "      <td>280</td>\n",
       "      <td>170</td>\n",
       "      <td>7780</td>\n",
       "    </tr>\n",
       "    <tr>\n",
       "      <th>6</th>\n",
       "      <td>Galeria Janete Costa</td>\n",
       "      <td>242</td>\n",
       "      <td>0</td>\n",
       "      <td>0</td>\n",
       "      <td>1099</td>\n",
       "      <td>180</td>\n",
       "      <td>297</td>\n",
       "      <td>401</td>\n",
       "      <td>434</td>\n",
       "      <td>566</td>\n",
       "      <td>1464</td>\n",
       "      <td>715</td>\n",
       "      <td>273</td>\n",
       "      <td>10858</td>\n",
       "    </tr>\n",
       "    <tr>\n",
       "      <th>7</th>\n",
       "      <td>Museu de Arte Moderna Aloisio Magalhaes</td>\n",
       "      <td>523</td>\n",
       "      <td>161</td>\n",
       "      <td>599</td>\n",
       "      <td>1196</td>\n",
       "      <td>1429</td>\n",
       "      <td>902</td>\n",
       "      <td>0</td>\n",
       "      <td>600</td>\n",
       "      <td>1320</td>\n",
       "      <td>24</td>\n",
       "      <td>737</td>\n",
       "      <td>414</td>\n",
       "      <td>14764</td>\n",
       "    </tr>\n",
       "    <tr>\n",
       "      <th>8</th>\n",
       "      <td>Paco do Frevo</td>\n",
       "      <td>18957</td>\n",
       "      <td>8174</td>\n",
       "      <td>11704</td>\n",
       "      <td>10707</td>\n",
       "      <td>9639</td>\n",
       "      <td>9716</td>\n",
       "      <td>12685</td>\n",
       "      <td>10031</td>\n",
       "      <td>27383</td>\n",
       "      <td>15512</td>\n",
       "      <td>13858</td>\n",
       "      <td>9672</td>\n",
       "      <td>278162</td>\n",
       "    </tr>\n",
       "  </tbody>\n",
       "</table>\n",
       "</div>"
      ],
      "text/plain": [
       "                               Equipamento  Janeiro  Fevereiro  Marco  Abril  \\\n",
       "0               Centro de Design do Recife       35        100    124    139   \n",
       "1                    Museu de Arte Popular      127         55    220    135   \n",
       "2                    Memorial Luiz Gonzaga      381        160    201    120   \n",
       "3                   Memorial Chico Science      265         90    264    218   \n",
       "4                         Casa do Carnaval      321        172    222    240   \n",
       "5                   Museu Murillo la Greca      290        120    560    180   \n",
       "6                     Galeria Janete Costa      242          0      0   1099   \n",
       "7  Museu de Arte Moderna Aloisio Magalhaes      523        161    599   1196   \n",
       "8                            Paco do Frevo    18957       8174  11704  10707   \n",
       "\n",
       "   Maio  Junho  Julho  Agosto  Setembro  Outubro  Novembro  Dezembro   Total  \n",
       "0   127    130     89      98       106      128       120        93    2508  \n",
       "1   103    128    104     101       135      129       141        79    2660  \n",
       "2    90     93    115     146       175      246       195       192    3466  \n",
       "3   110    115    187     199       212      190       146       132    3726  \n",
       "4   317    206    255     194       180      176       142        44    4296  \n",
       "5   490    190    610     530       380      380       280       170    7780  \n",
       "6   180    297    401     434       566     1464       715       273   10858  \n",
       "7  1429    902      0     600      1320       24       737       414   14764  \n",
       "8  9639   9716  12685   10031     27383    15512     13858      9672  278162  "
      ]
     },
     "execution_count": 79,
     "metadata": {},
     "output_type": "execute_result"
    }
   ],
   "source": [
    "rank_df"
   ]
  },
  {
   "cell_type": "markdown",
   "metadata": {
    "id": "AphKYS4GRTt2"
   },
   "source": [
    "### **Ranking de audiência nos museus por bairro**"
   ]
  },
  {
   "cell_type": "code",
   "execution_count": 80,
   "metadata": {
    "executionInfo": {
     "elapsed": 1,
     "status": "ok",
     "timestamp": 1740492939426,
     "user": {
      "displayName": "André Ferreira",
      "userId": "00188573913287098100"
     },
     "user_tz": 180
    },
    "id": "aYClW_P9Rcr7"
   },
   "outputs": [],
   "source": [
    "pub_bairro = df.loc[df['Tipo'] == 'Museu'].drop(columns=['Equipamento', 'Tipo', 'Ano', 'Obs'])"
   ]
  },
  {
   "cell_type": "code",
   "execution_count": 81,
   "metadata": {
    "colab": {
     "base_uri": "https://localhost:8080/",
     "height": 332
    },
    "executionInfo": {
     "elapsed": 24,
     "status": "ok",
     "timestamp": 1740492939451,
     "user": {
      "displayName": "André Ferreira",
      "userId": "00188573913287098100"
     },
     "user_tz": 180
    },
    "id": "Ii00b9S9R1co",
    "outputId": "9513f1e4-e98e-4ad5-c6b0-1255c3a3bfac"
   },
   "outputs": [
    {
     "data": {
      "text/html": [
       "<div>\n",
       "<style scoped>\n",
       "    .dataframe tbody tr th:only-of-type {\n",
       "        vertical-align: middle;\n",
       "    }\n",
       "\n",
       "    .dataframe tbody tr th {\n",
       "        vertical-align: top;\n",
       "    }\n",
       "\n",
       "    .dataframe thead th {\n",
       "        text-align: right;\n",
       "    }\n",
       "</style>\n",
       "<table border=\"1\" class=\"dataframe\">\n",
       "  <thead>\n",
       "    <tr style=\"text-align: right;\">\n",
       "      <th></th>\n",
       "      <th>Bairro</th>\n",
       "      <th>Janeiro</th>\n",
       "      <th>Fevereiro</th>\n",
       "      <th>Marco</th>\n",
       "      <th>Abril</th>\n",
       "      <th>Maio</th>\n",
       "      <th>Junho</th>\n",
       "      <th>Julho</th>\n",
       "      <th>Agosto</th>\n",
       "      <th>Setembro</th>\n",
       "      <th>Outubro</th>\n",
       "      <th>Novembro</th>\n",
       "      <th>Dezembro</th>\n",
       "    </tr>\n",
       "  </thead>\n",
       "  <tbody>\n",
       "    <tr>\n",
       "      <th>0</th>\n",
       "      <td>Sao Jose</td>\n",
       "      <td>321</td>\n",
       "      <td>172</td>\n",
       "      <td>222</td>\n",
       "      <td>240</td>\n",
       "      <td>317</td>\n",
       "      <td>206</td>\n",
       "      <td>255</td>\n",
       "      <td>194</td>\n",
       "      <td>180</td>\n",
       "      <td>176</td>\n",
       "      <td>142</td>\n",
       "      <td>44</td>\n",
       "    </tr>\n",
       "    <tr>\n",
       "      <th>1</th>\n",
       "      <td>Sao Jose</td>\n",
       "      <td>35</td>\n",
       "      <td>100</td>\n",
       "      <td>124</td>\n",
       "      <td>139</td>\n",
       "      <td>127</td>\n",
       "      <td>130</td>\n",
       "      <td>89</td>\n",
       "      <td>98</td>\n",
       "      <td>106</td>\n",
       "      <td>128</td>\n",
       "      <td>120</td>\n",
       "      <td>93</td>\n",
       "    </tr>\n",
       "    <tr>\n",
       "      <th>2</th>\n",
       "      <td>Boa Viagem</td>\n",
       "      <td>242</td>\n",
       "      <td>0</td>\n",
       "      <td>0</td>\n",
       "      <td>1099</td>\n",
       "      <td>180</td>\n",
       "      <td>297</td>\n",
       "      <td>401</td>\n",
       "      <td>434</td>\n",
       "      <td>566</td>\n",
       "      <td>1464</td>\n",
       "      <td>715</td>\n",
       "      <td>273</td>\n",
       "    </tr>\n",
       "    <tr>\n",
       "      <th>3</th>\n",
       "      <td>Boa Vista</td>\n",
       "      <td>523</td>\n",
       "      <td>161</td>\n",
       "      <td>599</td>\n",
       "      <td>1196</td>\n",
       "      <td>1429</td>\n",
       "      <td>902</td>\n",
       "      <td>0</td>\n",
       "      <td>600</td>\n",
       "      <td>1320</td>\n",
       "      <td>24</td>\n",
       "      <td>737</td>\n",
       "      <td>414</td>\n",
       "    </tr>\n",
       "    <tr>\n",
       "      <th>4</th>\n",
       "      <td>Sao Jose</td>\n",
       "      <td>127</td>\n",
       "      <td>55</td>\n",
       "      <td>220</td>\n",
       "      <td>135</td>\n",
       "      <td>103</td>\n",
       "      <td>128</td>\n",
       "      <td>104</td>\n",
       "      <td>101</td>\n",
       "      <td>135</td>\n",
       "      <td>129</td>\n",
       "      <td>141</td>\n",
       "      <td>79</td>\n",
       "    </tr>\n",
       "    <tr>\n",
       "      <th>5</th>\n",
       "      <td>Sao Jose</td>\n",
       "      <td>265</td>\n",
       "      <td>90</td>\n",
       "      <td>264</td>\n",
       "      <td>218</td>\n",
       "      <td>110</td>\n",
       "      <td>115</td>\n",
       "      <td>187</td>\n",
       "      <td>199</td>\n",
       "      <td>212</td>\n",
       "      <td>190</td>\n",
       "      <td>146</td>\n",
       "      <td>132</td>\n",
       "    </tr>\n",
       "    <tr>\n",
       "      <th>6</th>\n",
       "      <td>Sao Jose</td>\n",
       "      <td>381</td>\n",
       "      <td>160</td>\n",
       "      <td>201</td>\n",
       "      <td>120</td>\n",
       "      <td>90</td>\n",
       "      <td>93</td>\n",
       "      <td>115</td>\n",
       "      <td>146</td>\n",
       "      <td>175</td>\n",
       "      <td>246</td>\n",
       "      <td>195</td>\n",
       "      <td>192</td>\n",
       "    </tr>\n",
       "    <tr>\n",
       "      <th>7</th>\n",
       "      <td>Parnamirim</td>\n",
       "      <td>290</td>\n",
       "      <td>120</td>\n",
       "      <td>560</td>\n",
       "      <td>180</td>\n",
       "      <td>490</td>\n",
       "      <td>190</td>\n",
       "      <td>610</td>\n",
       "      <td>530</td>\n",
       "      <td>380</td>\n",
       "      <td>380</td>\n",
       "      <td>280</td>\n",
       "      <td>170</td>\n",
       "    </tr>\n",
       "    <tr>\n",
       "      <th>8</th>\n",
       "      <td>Recife</td>\n",
       "      <td>18957</td>\n",
       "      <td>8174</td>\n",
       "      <td>11704</td>\n",
       "      <td>10707</td>\n",
       "      <td>9639</td>\n",
       "      <td>9716</td>\n",
       "      <td>12685</td>\n",
       "      <td>10031</td>\n",
       "      <td>27383</td>\n",
       "      <td>15512</td>\n",
       "      <td>13858</td>\n",
       "      <td>9672</td>\n",
       "    </tr>\n",
       "  </tbody>\n",
       "</table>\n",
       "</div>"
      ],
      "text/plain": [
       "       Bairro  Janeiro  Fevereiro  Marco  Abril  Maio  Junho  Julho  Agosto  \\\n",
       "0    Sao Jose      321        172    222    240   317    206    255     194   \n",
       "1    Sao Jose       35        100    124    139   127    130     89      98   \n",
       "2  Boa Viagem      242          0      0   1099   180    297    401     434   \n",
       "3   Boa Vista      523        161    599   1196  1429    902      0     600   \n",
       "4    Sao Jose      127         55    220    135   103    128    104     101   \n",
       "5    Sao Jose      265         90    264    218   110    115    187     199   \n",
       "6    Sao Jose      381        160    201    120    90     93    115     146   \n",
       "7  Parnamirim      290        120    560    180   490    190    610     530   \n",
       "8      Recife    18957       8174  11704  10707  9639   9716  12685   10031   \n",
       "\n",
       "   Setembro  Outubro  Novembro  Dezembro  \n",
       "0       180      176       142        44  \n",
       "1       106      128       120        93  \n",
       "2       566     1464       715       273  \n",
       "3      1320       24       737       414  \n",
       "4       135      129       141        79  \n",
       "5       212      190       146       132  \n",
       "6       175      246       195       192  \n",
       "7       380      380       280       170  \n",
       "8     27383    15512     13858      9672  "
      ]
     },
     "execution_count": 81,
     "metadata": {},
     "output_type": "execute_result"
    }
   ],
   "source": [
    "pub_bairro"
   ]
  },
  {
   "cell_type": "code",
   "execution_count": 82,
   "metadata": {
    "executionInfo": {
     "elapsed": 37,
     "status": "ok",
     "timestamp": 1740492939489,
     "user": {
      "displayName": "André Ferreira",
      "userId": "00188573913287098100"
     },
     "user_tz": 180
    },
    "id": "D7---b_aSC1Z"
   },
   "outputs": [],
   "source": [
    "pub_bairro['Total'] = pub_bairro[pub_bairro.columns[1:]].sum(axis=1)"
   ]
  },
  {
   "cell_type": "code",
   "execution_count": 83,
   "metadata": {
    "executionInfo": {
     "elapsed": 2,
     "status": "ok",
     "timestamp": 1740492939490,
     "user": {
      "displayName": "André Ferreira",
      "userId": "00188573913287098100"
     },
     "user_tz": 180
    },
    "id": "f58bzCFXS80W"
   },
   "outputs": [],
   "source": [
    "rank_pub_bairro = pub_bairro.groupby(by='Bairro', sort=False, as_index=False).sum().sort_values(by='Total')"
   ]
  },
  {
   "cell_type": "code",
   "execution_count": 84,
   "metadata": {
    "colab": {
     "base_uri": "https://localhost:8080/",
     "height": 206
    },
    "executionInfo": {
     "elapsed": 80,
     "status": "ok",
     "timestamp": 1740492939571,
     "user": {
      "displayName": "André Ferreira",
      "userId": "00188573913287098100"
     },
     "user_tz": 180
    },
    "id": "emwTP665WH2u",
    "outputId": "dbe407d6-f3cd-43bb-f0c1-3ec0cc368354"
   },
   "outputs": [
    {
     "data": {
      "text/html": [
       "<div>\n",
       "<style scoped>\n",
       "    .dataframe tbody tr th:only-of-type {\n",
       "        vertical-align: middle;\n",
       "    }\n",
       "\n",
       "    .dataframe tbody tr th {\n",
       "        vertical-align: top;\n",
       "    }\n",
       "\n",
       "    .dataframe thead th {\n",
       "        text-align: right;\n",
       "    }\n",
       "</style>\n",
       "<table border=\"1\" class=\"dataframe\">\n",
       "  <thead>\n",
       "    <tr style=\"text-align: right;\">\n",
       "      <th></th>\n",
       "      <th>Bairro</th>\n",
       "      <th>Janeiro</th>\n",
       "      <th>Fevereiro</th>\n",
       "      <th>Marco</th>\n",
       "      <th>Abril</th>\n",
       "      <th>Maio</th>\n",
       "      <th>Junho</th>\n",
       "      <th>Julho</th>\n",
       "      <th>Agosto</th>\n",
       "      <th>Setembro</th>\n",
       "      <th>Outubro</th>\n",
       "      <th>Novembro</th>\n",
       "      <th>Dezembro</th>\n",
       "      <th>Total</th>\n",
       "    </tr>\n",
       "  </thead>\n",
       "  <tbody>\n",
       "    <tr>\n",
       "      <th>3</th>\n",
       "      <td>Parnamirim</td>\n",
       "      <td>290</td>\n",
       "      <td>120</td>\n",
       "      <td>560</td>\n",
       "      <td>180</td>\n",
       "      <td>490</td>\n",
       "      <td>190</td>\n",
       "      <td>610</td>\n",
       "      <td>530</td>\n",
       "      <td>380</td>\n",
       "      <td>380</td>\n",
       "      <td>280</td>\n",
       "      <td>170</td>\n",
       "      <td>4180</td>\n",
       "    </tr>\n",
       "    <tr>\n",
       "      <th>1</th>\n",
       "      <td>Boa Viagem</td>\n",
       "      <td>242</td>\n",
       "      <td>0</td>\n",
       "      <td>0</td>\n",
       "      <td>1099</td>\n",
       "      <td>180</td>\n",
       "      <td>297</td>\n",
       "      <td>401</td>\n",
       "      <td>434</td>\n",
       "      <td>566</td>\n",
       "      <td>1464</td>\n",
       "      <td>715</td>\n",
       "      <td>273</td>\n",
       "      <td>5671</td>\n",
       "    </tr>\n",
       "    <tr>\n",
       "      <th>2</th>\n",
       "      <td>Boa Vista</td>\n",
       "      <td>523</td>\n",
       "      <td>161</td>\n",
       "      <td>599</td>\n",
       "      <td>1196</td>\n",
       "      <td>1429</td>\n",
       "      <td>902</td>\n",
       "      <td>0</td>\n",
       "      <td>600</td>\n",
       "      <td>1320</td>\n",
       "      <td>24</td>\n",
       "      <td>737</td>\n",
       "      <td>414</td>\n",
       "      <td>7905</td>\n",
       "    </tr>\n",
       "    <tr>\n",
       "      <th>0</th>\n",
       "      <td>Sao Jose</td>\n",
       "      <td>1129</td>\n",
       "      <td>577</td>\n",
       "      <td>1031</td>\n",
       "      <td>852</td>\n",
       "      <td>747</td>\n",
       "      <td>672</td>\n",
       "      <td>750</td>\n",
       "      <td>738</td>\n",
       "      <td>808</td>\n",
       "      <td>869</td>\n",
       "      <td>744</td>\n",
       "      <td>540</td>\n",
       "      <td>9457</td>\n",
       "    </tr>\n",
       "    <tr>\n",
       "      <th>4</th>\n",
       "      <td>Recife</td>\n",
       "      <td>18957</td>\n",
       "      <td>8174</td>\n",
       "      <td>11704</td>\n",
       "      <td>10707</td>\n",
       "      <td>9639</td>\n",
       "      <td>9716</td>\n",
       "      <td>12685</td>\n",
       "      <td>10031</td>\n",
       "      <td>27383</td>\n",
       "      <td>15512</td>\n",
       "      <td>13858</td>\n",
       "      <td>9672</td>\n",
       "      <td>158038</td>\n",
       "    </tr>\n",
       "  </tbody>\n",
       "</table>\n",
       "</div>"
      ],
      "text/plain": [
       "       Bairro  Janeiro  Fevereiro  Marco  Abril  Maio  Junho  Julho  Agosto  \\\n",
       "3  Parnamirim      290        120    560    180   490    190    610     530   \n",
       "1  Boa Viagem      242          0      0   1099   180    297    401     434   \n",
       "2   Boa Vista      523        161    599   1196  1429    902      0     600   \n",
       "0    Sao Jose     1129        577   1031    852   747    672    750     738   \n",
       "4      Recife    18957       8174  11704  10707  9639   9716  12685   10031   \n",
       "\n",
       "   Setembro  Outubro  Novembro  Dezembro   Total  \n",
       "3       380      380       280       170    4180  \n",
       "1       566     1464       715       273    5671  \n",
       "2      1320       24       737       414    7905  \n",
       "0       808      869       744       540    9457  \n",
       "4     27383    15512     13858      9672  158038  "
      ]
     },
     "execution_count": 84,
     "metadata": {},
     "output_type": "execute_result"
    }
   ],
   "source": [
    "rank_pub_bairro"
   ]
  },
  {
   "cell_type": "markdown",
   "metadata": {
    "id": "n1ltNKcpqs2j"
   },
   "source": [
    "### **Ranking de público nos teatros por equipamento**"
   ]
  },
  {
   "cell_type": "code",
   "execution_count": 49,
   "metadata": {
    "executionInfo": {
     "elapsed": 1,
     "status": "ok",
     "timestamp": 1740492939573,
     "user": {
      "displayName": "André Ferreira",
      "userId": "00188573913287098100"
     },
     "user_tz": 180
    },
    "id": "8HGhtrboq3mT"
   },
   "outputs": [],
   "source": [
    "pub_teatro = df.loc[df['Tipo'] == 'Teatro'].drop(columns=['Ano' , 'Tipo', 'Obs', 'Bairro'])"
   ]
  },
  {
   "cell_type": "code",
   "execution_count": 50,
   "metadata": {
    "executionInfo": {
     "elapsed": 1,
     "status": "ok",
     "timestamp": 1740492939574,
     "user": {
      "displayName": "André Ferreira",
      "userId": "00188573913287098100"
     },
     "user_tz": 180
    },
    "id": "JVa2zdUVrfyR"
   },
   "outputs": [],
   "source": [
    "pub_teatro['Total'] = pub_teatro[pub_teatro.columns[1:]].sum(axis=1)"
   ]
  },
  {
   "cell_type": "code",
   "execution_count": 51,
   "metadata": {
    "executionInfo": {
     "elapsed": 1,
     "status": "ok",
     "timestamp": 1740492939575,
     "user": {
      "displayName": "André Ferreira",
      "userId": "00188573913287098100"
     },
     "user_tz": 180
    },
    "id": "iM6xj4AAsDBd"
   },
   "outputs": [],
   "source": [
    "rank_pub_teatro = pub_teatro.sort_values(by='Total')"
   ]
  },
  {
   "cell_type": "code",
   "execution_count": 52,
   "metadata": {
    "colab": {
     "base_uri": "https://localhost:8080/",
     "height": 238
    },
    "executionInfo": {
     "elapsed": 43,
     "status": "ok",
     "timestamp": 1740492939619,
     "user": {
      "displayName": "André Ferreira",
      "userId": "00188573913287098100"
     },
     "user_tz": 180
    },
    "id": "J4DcVRDKsVhd",
    "outputId": "9b6b65b8-1902-4140-8ac8-8e7b2df4e00a"
   },
   "outputs": [
    {
     "data": {
      "text/html": [
       "<div>\n",
       "<style scoped>\n",
       "    .dataframe tbody tr th:only-of-type {\n",
       "        vertical-align: middle;\n",
       "    }\n",
       "\n",
       "    .dataframe tbody tr th {\n",
       "        vertical-align: top;\n",
       "    }\n",
       "\n",
       "    .dataframe thead th {\n",
       "        text-align: right;\n",
       "    }\n",
       "</style>\n",
       "<table border=\"1\" class=\"dataframe\">\n",
       "  <thead>\n",
       "    <tr style=\"text-align: right;\">\n",
       "      <th></th>\n",
       "      <th>Equipamento</th>\n",
       "      <th>Janeiro</th>\n",
       "      <th>Fevereiro</th>\n",
       "      <th>Marco</th>\n",
       "      <th>Abril</th>\n",
       "      <th>Maio</th>\n",
       "      <th>Junho</th>\n",
       "      <th>Julho</th>\n",
       "      <th>Agosto</th>\n",
       "      <th>Setembro</th>\n",
       "      <th>Outubro</th>\n",
       "      <th>Novembro</th>\n",
       "      <th>Dezembro</th>\n",
       "      <th>Total</th>\n",
       "    </tr>\n",
       "  </thead>\n",
       "  <tbody>\n",
       "    <tr>\n",
       "      <th>13</th>\n",
       "      <td>Teatro Hermilo Borba Filho</td>\n",
       "      <td>949</td>\n",
       "      <td>208</td>\n",
       "      <td>1351</td>\n",
       "      <td>430</td>\n",
       "      <td>696</td>\n",
       "      <td>792</td>\n",
       "      <td>853</td>\n",
       "      <td>0</td>\n",
       "      <td>0</td>\n",
       "      <td>3300</td>\n",
       "      <td>761</td>\n",
       "      <td>287</td>\n",
       "      <td>9627</td>\n",
       "    </tr>\n",
       "    <tr>\n",
       "      <th>9</th>\n",
       "      <td>Tearro Apolo</td>\n",
       "      <td>1473</td>\n",
       "      <td>104</td>\n",
       "      <td>514</td>\n",
       "      <td>1372</td>\n",
       "      <td>1361</td>\n",
       "      <td>706</td>\n",
       "      <td>416</td>\n",
       "      <td>862</td>\n",
       "      <td>2361</td>\n",
       "      <td>3203</td>\n",
       "      <td>1624</td>\n",
       "      <td>2131</td>\n",
       "      <td>16127</td>\n",
       "    </tr>\n",
       "    <tr>\n",
       "      <th>10</th>\n",
       "      <td>Teatro Barreto Junior</td>\n",
       "      <td>2714</td>\n",
       "      <td>1288</td>\n",
       "      <td>4789</td>\n",
       "      <td>3099</td>\n",
       "      <td>6069</td>\n",
       "      <td>3801</td>\n",
       "      <td>3282</td>\n",
       "      <td>4292</td>\n",
       "      <td>2950</td>\n",
       "      <td>3172</td>\n",
       "      <td>3457</td>\n",
       "      <td>6240</td>\n",
       "      <td>45153</td>\n",
       "    </tr>\n",
       "    <tr>\n",
       "      <th>11</th>\n",
       "      <td>Teatro de Santa Isabel</td>\n",
       "      <td>3039</td>\n",
       "      <td>467</td>\n",
       "      <td>6005</td>\n",
       "      <td>4453</td>\n",
       "      <td>6842</td>\n",
       "      <td>3810</td>\n",
       "      <td>6113</td>\n",
       "      <td>6934</td>\n",
       "      <td>5654</td>\n",
       "      <td>5918</td>\n",
       "      <td>6622</td>\n",
       "      <td>3889</td>\n",
       "      <td>59746</td>\n",
       "    </tr>\n",
       "    <tr>\n",
       "      <th>14</th>\n",
       "      <td>Teatro Luiz Mendonca</td>\n",
       "      <td>251</td>\n",
       "      <td>576</td>\n",
       "      <td>0</td>\n",
       "      <td>1553</td>\n",
       "      <td>6352</td>\n",
       "      <td>7855</td>\n",
       "      <td>6101</td>\n",
       "      <td>6813</td>\n",
       "      <td>6154</td>\n",
       "      <td>4075</td>\n",
       "      <td>11318</td>\n",
       "      <td>10952</td>\n",
       "      <td>62000</td>\n",
       "    </tr>\n",
       "    <tr>\n",
       "      <th>12</th>\n",
       "      <td>Teatro do Parque</td>\n",
       "      <td>4265</td>\n",
       "      <td>2217</td>\n",
       "      <td>8027</td>\n",
       "      <td>5142</td>\n",
       "      <td>4628</td>\n",
       "      <td>4552</td>\n",
       "      <td>4915</td>\n",
       "      <td>10190</td>\n",
       "      <td>10753</td>\n",
       "      <td>7969</td>\n",
       "      <td>7647</td>\n",
       "      <td>7067</td>\n",
       "      <td>77372</td>\n",
       "    </tr>\n",
       "  </tbody>\n",
       "</table>\n",
       "</div>"
      ],
      "text/plain": [
       "                   Equipamento  Janeiro  Fevereiro  Marco  Abril  Maio  Junho  \\\n",
       "13  Teatro Hermilo Borba Filho      949        208   1351    430   696    792   \n",
       "9                 Tearro Apolo     1473        104    514   1372  1361    706   \n",
       "10       Teatro Barreto Junior     2714       1288   4789   3099  6069   3801   \n",
       "11      Teatro de Santa Isabel     3039        467   6005   4453  6842   3810   \n",
       "14        Teatro Luiz Mendonca      251        576      0   1553  6352   7855   \n",
       "12            Teatro do Parque     4265       2217   8027   5142  4628   4552   \n",
       "\n",
       "    Julho  Agosto  Setembro  Outubro  Novembro  Dezembro  Total  \n",
       "13    853       0         0     3300       761       287   9627  \n",
       "9     416     862      2361     3203      1624      2131  16127  \n",
       "10   3282    4292      2950     3172      3457      6240  45153  \n",
       "11   6113    6934      5654     5918      6622      3889  59746  \n",
       "14   6101    6813      6154     4075     11318     10952  62000  \n",
       "12   4915   10190     10753     7969      7647      7067  77372  "
      ]
     },
     "execution_count": 52,
     "metadata": {},
     "output_type": "execute_result"
    }
   ],
   "source": [
    "rank_pub_teatro"
   ]
  },
  {
   "cell_type": "markdown",
   "metadata": {
    "id": "U6_9yZc7uke2"
   },
   "source": [
    "### **Ranking de público nos teatros por bairro**"
   ]
  },
  {
   "cell_type": "code",
   "execution_count": 53,
   "metadata": {
    "executionInfo": {
     "elapsed": 11,
     "status": "ok",
     "timestamp": 1740492939630,
     "user": {
      "displayName": "André Ferreira",
      "userId": "00188573913287098100"
     },
     "user_tz": 180
    },
    "id": "2XuthcRhuqWl"
   },
   "outputs": [],
   "source": [
    "pub_teatro_bairro = df.loc[df['Tipo'] == 'Teatro'].drop(columns=['Equipamento', 'Tipo', 'Ano', 'Obs'])"
   ]
  },
  {
   "cell_type": "code",
   "execution_count": 54,
   "metadata": {
    "executionInfo": {
     "elapsed": 33,
     "status": "ok",
     "timestamp": 1740492939662,
     "user": {
      "displayName": "André Ferreira",
      "userId": "00188573913287098100"
     },
     "user_tz": 180
    },
    "id": "zxOk3lVluzqT"
   },
   "outputs": [],
   "source": [
    "pub_teatro_bairro['Total'] = pub_teatro_bairro[pub_teatro_bairro.columns[1:]].sum(axis=1)"
   ]
  },
  {
   "cell_type": "code",
   "execution_count": 55,
   "metadata": {
    "executionInfo": {
     "elapsed": 2,
     "status": "ok",
     "timestamp": 1740492939665,
     "user": {
      "displayName": "André Ferreira",
      "userId": "00188573913287098100"
     },
     "user_tz": 180
    },
    "id": "DJffGJlfu5FN"
   },
   "outputs": [],
   "source": [
    "rank_pub_teatro_bairro = pub_teatro_bairro.groupby(by='Bairro', sort=False, as_index=False).sum().sort_values(by='Total')"
   ]
  },
  {
   "cell_type": "code",
   "execution_count": 56,
   "metadata": {
    "colab": {
     "base_uri": "https://localhost:8080/",
     "height": 0
    },
    "executionInfo": {
     "elapsed": 56,
     "status": "ok",
     "timestamp": 1740492939720,
     "user": {
      "displayName": "André Ferreira",
      "userId": "00188573913287098100"
     },
     "user_tz": 180
    },
    "id": "85plwc2Hvin9",
    "outputId": "533a0f31-7359-4bff-841b-1dc3020bec70"
   },
   "outputs": [
    {
     "data": {
      "text/html": [
       "<div>\n",
       "<style scoped>\n",
       "    .dataframe tbody tr th:only-of-type {\n",
       "        vertical-align: middle;\n",
       "    }\n",
       "\n",
       "    .dataframe tbody tr th {\n",
       "        vertical-align: top;\n",
       "    }\n",
       "\n",
       "    .dataframe thead th {\n",
       "        text-align: right;\n",
       "    }\n",
       "</style>\n",
       "<table border=\"1\" class=\"dataframe\">\n",
       "  <thead>\n",
       "    <tr style=\"text-align: right;\">\n",
       "      <th></th>\n",
       "      <th>Bairro</th>\n",
       "      <th>Janeiro</th>\n",
       "      <th>Fevereiro</th>\n",
       "      <th>Marco</th>\n",
       "      <th>Abril</th>\n",
       "      <th>Maio</th>\n",
       "      <th>Junho</th>\n",
       "      <th>Julho</th>\n",
       "      <th>Agosto</th>\n",
       "      <th>Setembro</th>\n",
       "      <th>Outubro</th>\n",
       "      <th>Novembro</th>\n",
       "      <th>Dezembro</th>\n",
       "      <th>Total</th>\n",
       "    </tr>\n",
       "  </thead>\n",
       "  <tbody>\n",
       "    <tr>\n",
       "      <th>0</th>\n",
       "      <td>Recife</td>\n",
       "      <td>2422</td>\n",
       "      <td>312</td>\n",
       "      <td>1865</td>\n",
       "      <td>1802</td>\n",
       "      <td>2057</td>\n",
       "      <td>1498</td>\n",
       "      <td>1269</td>\n",
       "      <td>862</td>\n",
       "      <td>2361</td>\n",
       "      <td>6503</td>\n",
       "      <td>2385</td>\n",
       "      <td>2418</td>\n",
       "      <td>25754</td>\n",
       "    </tr>\n",
       "    <tr>\n",
       "      <th>1</th>\n",
       "      <td>Pina</td>\n",
       "      <td>2714</td>\n",
       "      <td>1288</td>\n",
       "      <td>4789</td>\n",
       "      <td>3099</td>\n",
       "      <td>6069</td>\n",
       "      <td>3801</td>\n",
       "      <td>3282</td>\n",
       "      <td>4292</td>\n",
       "      <td>2950</td>\n",
       "      <td>3172</td>\n",
       "      <td>3457</td>\n",
       "      <td>6240</td>\n",
       "      <td>45153</td>\n",
       "    </tr>\n",
       "    <tr>\n",
       "      <th>2</th>\n",
       "      <td>Santo Antonio</td>\n",
       "      <td>3039</td>\n",
       "      <td>467</td>\n",
       "      <td>6005</td>\n",
       "      <td>4453</td>\n",
       "      <td>6842</td>\n",
       "      <td>3810</td>\n",
       "      <td>6113</td>\n",
       "      <td>6934</td>\n",
       "      <td>5654</td>\n",
       "      <td>5918</td>\n",
       "      <td>6622</td>\n",
       "      <td>3889</td>\n",
       "      <td>59746</td>\n",
       "    </tr>\n",
       "    <tr>\n",
       "      <th>4</th>\n",
       "      <td>Boa Viagem</td>\n",
       "      <td>251</td>\n",
       "      <td>576</td>\n",
       "      <td>0</td>\n",
       "      <td>1553</td>\n",
       "      <td>6352</td>\n",
       "      <td>7855</td>\n",
       "      <td>6101</td>\n",
       "      <td>6813</td>\n",
       "      <td>6154</td>\n",
       "      <td>4075</td>\n",
       "      <td>11318</td>\n",
       "      <td>10952</td>\n",
       "      <td>62000</td>\n",
       "    </tr>\n",
       "    <tr>\n",
       "      <th>3</th>\n",
       "      <td>Boa Vista</td>\n",
       "      <td>4265</td>\n",
       "      <td>2217</td>\n",
       "      <td>8027</td>\n",
       "      <td>5142</td>\n",
       "      <td>4628</td>\n",
       "      <td>4552</td>\n",
       "      <td>4915</td>\n",
       "      <td>10190</td>\n",
       "      <td>10753</td>\n",
       "      <td>7969</td>\n",
       "      <td>7647</td>\n",
       "      <td>7067</td>\n",
       "      <td>77372</td>\n",
       "    </tr>\n",
       "  </tbody>\n",
       "</table>\n",
       "</div>"
      ],
      "text/plain": [
       "          Bairro  Janeiro  Fevereiro  Marco  Abril  Maio  Junho  Julho  \\\n",
       "0         Recife     2422        312   1865   1802  2057   1498   1269   \n",
       "1           Pina     2714       1288   4789   3099  6069   3801   3282   \n",
       "2  Santo Antonio     3039        467   6005   4453  6842   3810   6113   \n",
       "4     Boa Viagem      251        576      0   1553  6352   7855   6101   \n",
       "3      Boa Vista     4265       2217   8027   5142  4628   4552   4915   \n",
       "\n",
       "   Agosto  Setembro  Outubro  Novembro  Dezembro  Total  \n",
       "0     862      2361     6503      2385      2418  25754  \n",
       "1    4292      2950     3172      3457      6240  45153  \n",
       "2    6934      5654     5918      6622      3889  59746  \n",
       "4    6813      6154     4075     11318     10952  62000  \n",
       "3   10190     10753     7969      7647      7067  77372  "
      ]
     },
     "execution_count": 56,
     "metadata": {},
     "output_type": "execute_result"
    }
   ],
   "source": [
    "rank_pub_teatro_bairro"
   ]
  },
  {
   "cell_type": "markdown",
   "metadata": {
    "id": "TH2c8orLftEh"
   },
   "source": [
    "### **Quantidade total de público nos teatros do Recife**"
   ]
  },
  {
   "cell_type": "code",
   "execution_count": 57,
   "metadata": {
    "executionInfo": {
     "elapsed": 3,
     "status": "ok",
     "timestamp": 1740492939721,
     "user": {
      "displayName": "André Ferreira",
      "userId": "00188573913287098100"
     },
     "user_tz": 180
    },
    "id": "DSIitBF3frr_"
   },
   "outputs": [],
   "source": [
    "sum_pub_teatro = [pub_teatro[mes].sum() for mes in pub_teatro.columns[1:-1]]"
   ]
  },
  {
   "cell_type": "markdown",
   "metadata": {
    "id": "I6m7nr12hYqU"
   },
   "source": [
    "### **Percentual de pessoas nos equipamentos culturais públicos de Recife**"
   ]
  },
  {
   "cell_type": "code",
   "execution_count": 58,
   "metadata": {
    "executionInfo": {
     "elapsed": 5,
     "status": "ok",
     "timestamp": 1740495609551,
     "user": {
      "displayName": "André Ferreira",
      "userId": "00188573913287098100"
     },
     "user_tz": 180
    },
    "id": "7lYMu3Xwh0uU"
   },
   "outputs": [],
   "source": [
    "total_pub_museus = sum(sum_pub_museus)\n",
    "total_pub_teatros = sum(sum_pub_teatro)\n",
    "total_pessoas = total_pub_museus + total_pub_teatros\n",
    "perc_pub_equip = [round((total_pub_museus / total_pessoas) * 100, 2), round((total_pub_teatros / total_pessoas) * 100, 2)]"
   ]
  },
  {
   "cell_type": "markdown",
   "metadata": {
    "id": "ZpekQeZnjbH-"
   },
   "source": [
    "## **Visualização dos dados**"
   ]
  },
  {
   "cell_type": "markdown",
   "metadata": {
    "id": "iMe2kZ6LkZ9b"
   },
   "source": [
    "### **Distribuição geográfica dos museus e teatros na cidade do Recife**"
   ]
  },
  {
   "cell_type": "code",
   "execution_count": 59,
   "metadata": {
    "colab": {
     "base_uri": "https://localhost:8080/",
     "height": 0
    },
    "executionInfo": {
     "elapsed": 1531,
     "status": "ok",
     "timestamp": 1740492941250,
     "user": {
      "displayName": "André Ferreira",
      "userId": "00188573913287098100"
     },
     "user_tz": 180
    },
    "id": "8StCZIx9D1L0",
    "outputId": "bfac9305-2133-44aa-f8ac-001ce8a9c8c1"
   },
   "outputs": [
    {
     "data": {
      "image/png": "[encoded data removed]",
      "text/plain": [
       "<Figure size 1400x1200 with 2 Axes>"
      ]
     },
     "metadata": {},
     "output_type": "display_data"
    }
   ],
   "source": [
    "fig, ax = plt.subplots(nrows=1, ncols=2, figsize=(14, 12))\n",
    "bairro_gdf.plot(ax=ax[0], column='Bairro', legend=True)\n",
    "gdf.boundary.plot(ax=ax[0], edgecolor='black')\n",
    "teatro_gdf.plot(ax=ax[1], column='Bairro', legend=True, cmap='YlGnBu')\n",
    "gdf.boundary.plot(ax=ax[1], edgecolor='black')\n",
    "ax[0].axis('off')\n",
    "ax[0].set_title('Distribução geográfica dos museus do Recife')\n",
    "ax[1].axis('off')\n",
    "ax[1].set_title('Distribuição geográfica dos teatros do Recife')\n",
    "plt.show()"
   ]
  },
  {
   "cell_type": "markdown",
   "metadata": {
    "id": "A8hWglecky9t"
   },
   "source": [
    "### **Evolução do público nos equipamentos culturais do Recife em 2023**"
   ]
  },
  {
   "cell_type": "code",
   "execution_count": 60,
   "metadata": {
    "colab": {
     "base_uri": "https://localhost:8080/",
     "height": 602
    },
    "executionInfo": {
     "elapsed": 254,
     "status": "ok",
     "timestamp": 1740492941506,
     "user": {
      "displayName": "André Ferreira",
      "userId": "00188573913287098100"
     },
     "user_tz": 180
    },
    "id": "Mq8kNYjx4Ib2",
    "outputId": "83491ca9-b401-4259-e1f2-dc2c6cad3c58"
   },
   "outputs": [
    {
     "data": {
      "image/png": "[encoded data removed]",
      "text/plain": [
       "<Figure size 1400x600 with 2 Axes>"
      ]
     },
     "metadata": {},
     "output_type": "display_data"
    }
   ],
   "source": [
    "fig1, ax1 = plt.subplots(nrows=1, ncols=2, figsize=(14, 6))\n",
    "ax1[0].plot(meses_columns, sum_pub_museus, color='red')\n",
    "ax1[0].set_xlabel('Mês')\n",
    "ax1[0].set_ylabel('Total de público')\n",
    "ax1[0].set_title('Museus')\n",
    "ax1[1].plot(meses_columns, sum_pub_teatro, color='green')\n",
    "ax1[1].set_xlabel('Mês')\n",
    "ax1[1].set_ylabel('Total de público')\n",
    "ax1[1].set_title('Teatros')\n",
    "fig1.suptitle('Evolução do público nos equipamentos culturais do Recife em 2023',\n",
    "              fontweight='bold')\n",
    "plt.show()"
   ]
  },
  {
   "cell_type": "markdown",
   "metadata": {
    "id": "2NPeFTzBFPra"
   },
   "source": [
    "### **Ranking de público nos museus do Recife por equipamento**"
   ]
  },
  {
   "cell_type": "code",
   "execution_count": 61,
   "metadata": {
    "colab": {
     "base_uri": "https://localhost:8080/",
     "height": 429
    },
    "executionInfo": {
     "elapsed": 218,
     "status": "ok",
     "timestamp": 1740492941725,
     "user": {
      "displayName": "André Ferreira",
      "userId": "00188573913287098100"
     },
     "user_tz": 180
    },
    "id": "QwwxNGtiFX0Y",
    "outputId": "1a501c82-1c9c-4d1e-e5d5-e0fda6f63b25"
   },
   "outputs": [
    {
     "data": {
      "image/png": "[encoded data removed]",
      "text/plain": [
       "<Figure size 640x480 with 1 Axes>"
      ]
     },
     "metadata": {},
     "output_type": "display_data"
    }
   ],
   "source": [
    "fig2, ax2 = plt.subplots()\n",
    "ax2.barh(rank_df['Equipamento'], rank_df['Total'], color='green')\n",
    "ax2.spines.top.set_visible(False)\n",
    "ax2.spines.right.set_visible(False)\n",
    "ax2.spines.left.set_visible(False)\n",
    "ax2.spines.bottom.set_visible(False)\n",
    "ax2.tick_params(axis='y', left=False)\n",
    "ax2.set(xticks=[])\n",
    "for xi, yi, annotation in zip(rank_df['Total'], rank_df['Equipamento'], [f'{el}' for el in rank_df['Total']]):\n",
    "  ax2.annotate(annotation, xy=(xi,yi), xytext=(2, 0), textcoords='offset points', va='center')\n",
    "ax2.set_title('Ranking de público nos museus do Recife')\n",
    "plt.show()"
   ]
  },
  {
   "cell_type": "markdown",
   "metadata": {
    "id": "cfFpo3gfVX3i"
   },
   "source": [
    "### **Ranking de público nos museus do Recife por bairro**"
   ]
  },
  {
   "cell_type": "code",
   "execution_count": 62,
   "metadata": {
    "colab": {
     "base_uri": "https://localhost:8080/",
     "height": 429
    },
    "executionInfo": {
     "elapsed": 130,
     "status": "ok",
     "timestamp": 1740492941856,
     "user": {
      "displayName": "André Ferreira",
      "userId": "00188573913287098100"
     },
     "user_tz": 180
    },
    "id": "nsjLxqCGM-jG",
    "outputId": "bb51b000-d62a-4638-996e-cf605995f3bb"
   },
   "outputs": [
    {
     "data": {
      "image/png": "[encoded data removed]",
      "text/plain": [
       "<Figure size 640x480 with 1 Axes>"
      ]
     },
     "metadata": {},
     "output_type": "display_data"
    }
   ],
   "source": [
    "fig3, ax3 = plt.subplots()\n",
    "ax3.barh(rank_pub_bairro['Bairro'], rank_pub_bairro['Total'])\n",
    "ax3.spines.top.set_visible(False)\n",
    "ax3.spines.right.set_visible(False)\n",
    "ax3.spines.bottom.set_visible(False)\n",
    "ax3.spines.left.set_visible(False)\n",
    "ax3.tick_params(axis='y', left=False)\n",
    "ax3.set(xticks=[])\n",
    "for wi, zi, annotation in zip(rank_pub_bairro['Total'], rank_pub_bairro['Bairro'], [f'{el}' for el in rank_pub_bairro['Total']]):\n",
    "  ax3.annotate(annotation, xy=(wi, zi), xytext=(2,0), textcoords='offset points', va='center')\n",
    "ax3.set_title('Ranking de público nos museus do Recife por bairro')\n",
    "plt.show()"
   ]
  },
  {
   "cell_type": "markdown",
   "metadata": {
    "id": "KSe4OTLsFRIt"
   },
   "source": [
    "### **Ranking de público nos teatros do Recife por equipamento**"
   ]
  },
  {
   "cell_type": "code",
   "execution_count": 63,
   "metadata": {
    "colab": {
     "base_uri": "https://localhost:8080/",
     "height": 406
    },
    "executionInfo": {
     "elapsed": 207,
     "status": "ok",
     "timestamp": 1740492942064,
     "user": {
      "displayName": "André Ferreira",
      "userId": "00188573913287098100"
     },
     "user_tz": 180
    },
    "id": "5Sm0yvGKshwI",
    "outputId": "fb393461-bf44-479a-93d7-00f707584329"
   },
   "outputs": [
    {
     "data": {
      "image/png": "[encoded data removed]",
      "text/plain": [
       "<Figure size 640x480 with 1 Axes>"
      ]
     },
     "metadata": {},
     "output_type": "display_data"
    }
   ],
   "source": [
    "fig5, ax5 = plt.subplots()\n",
    "ax5.barh(rank_pub_teatro['Equipamento'], rank_pub_teatro['Total'], color='orange')\n",
    "ax5.spines.top.set_visible(False)\n",
    "ax5.spines.right.set_visible(False)\n",
    "ax5.spines.bottom.set_visible(False)\n",
    "ax5.spines.left.set_visible(False)\n",
    "ax5.tick_params(axis='y', left=False)\n",
    "ax5.set(xticks=[])\n",
    "for xi, yi, annotation in zip(rank_pub_teatro['Total'], rank_pub_teatro['Equipamento'], [f'{el}' for el in rank_pub_teatro['Total']]):\n",
    "  ax5.annotate(annotation, xy=(xi, yi), xytext=(3, 0), textcoords='offset points', va='center')\n",
    "plt.show()"
   ]
  },
  {
   "cell_type": "markdown",
   "metadata": {
    "id": "JNMejRQCuNLq"
   },
   "source": [
    "### **Ranking de público nos teatros do Recife por bairro**"
   ]
  },
  {
   "cell_type": "code",
   "execution_count": 64,
   "metadata": {
    "colab": {
     "base_uri": "https://localhost:8080/",
     "height": 429
    },
    "executionInfo": {
     "elapsed": 118,
     "status": "ok",
     "timestamp": 1740492942183,
     "user": {
      "displayName": "André Ferreira",
      "userId": "00188573913287098100"
     },
     "user_tz": 180
    },
    "id": "zE-6JgLkxZaK",
    "outputId": "f78fd548-3711-4b40-9c91-fc6be4f6b56e"
   },
   "outputs": [
    {
     "data": {
      "image/png": "[encoded data removed]",
      "text/plain": [
       "<Figure size 640x480 with 1 Axes>"
      ]
     },
     "metadata": {},
     "output_type": "display_data"
    }
   ],
   "source": [
    "fig6, ax6 = plt.subplots()\n",
    "ax6.barh(rank_pub_teatro_bairro['Bairro'], rank_pub_teatro_bairro['Total'], color='purple')\n",
    "ax6.spines.top.set_visible(False)\n",
    "ax6.spines.right.set_visible(False)\n",
    "ax6.spines.bottom.set_visible(False)\n",
    "ax6.spines.left.set_visible(False)\n",
    "ax6.tick_params(axis='y', left=False)\n",
    "ax6.set(xticks=[])\n",
    "for xi, yi, annotation in zip(rank_pub_teatro_bairro['Total'], rank_pub_teatro_bairro['Bairro'], [f'{el}' for el in rank_pub_teatro_bairro['Total']]):\n",
    "  ax6.annotate(annotation, xy=(xi, yi), xytext=(3, 0), textcoords='offset points', va='center')\n",
    "ax6.set_title('Ranking de público nos teatros por bairro')\n",
    "plt.show()"
   ]
  },
  {
   "cell_type": "markdown",
   "metadata": {
    "id": "k_pSMUPseeAY"
   },
   "source": [
    "### **Percentual de visitantes aos equipamentos culturais públicos de Recife**"
   ]
  },
  {
   "cell_type": "code",
   "execution_count": 65,
   "metadata": {
    "colab": {
     "base_uri": "https://localhost:8080/",
     "height": 521
    },
    "executionInfo": {
     "elapsed": 220,
     "status": "ok",
     "timestamp": 1740496611686,
     "user": {
      "displayName": "André Ferreira",
      "userId": "00188573913287098100"
     },
     "user_tz": 180
    },
    "id": "YiuX2COgedRC",
    "outputId": "6e5c0e20-e2cc-4c4a-e355-2cc9e00b6dad"
   },
   "outputs": [
    {
     "data": {
      "image/png": "[encoded data removed]",
      "text/plain": [
       "<Figure size 800x600 with 1 Axes>"
      ]
     },
     "metadata": {},
     "output_type": "display_data"
    }
   ],
   "source": [
    "fig7, ax7 = plt.subplots(figsize=(8, 6), subplot_kw=dict(aspect='equal'))\n",
    "wedges, text = ax7.pie(perc_pub_equip, wedgeprops=dict(width=0.5), startangle=-30)\n",
    "kw = dict(arrowprops=dict(arrowstyle='-'), va='center')\n",
    "\n",
    "for i, p in enumerate(wedges):\n",
    "  ang = (p.theta2 - p.theta1)/2. + p.theta1\n",
    "  y = np.sin(np.deg2rad(ang))\n",
    "  x = np.cos(np.deg2rad(ang))\n",
    "  kw['arrowprops'].update({'connectionstyle': f'angle, angleA=0, angleB={ang}'})\n",
    "  horizontalalignment = {-1: 'right', 1: 'left'}[int(np.sign(x))]\n",
    "  ax7.annotate(f\"{perc_pub_equip[i]} % foram a {df['Tipo'].unique()[i]}\",\n",
    "               xy=(x, y),\n",
    "               xytext=(1.35*np.sign(x), 1.4*y),\n",
    "               horizontalalignment=horizontalalignment,\n",
    "               **kw)\n",
    "ax7.set_title('Percentual de visitantes aos equipamentos culturais públicos de Recife')\n",
    "plt.show()"
   ]
  },
  {
   "cell_type": "markdown",
   "metadata": {
    "id": "AtxKGo-PopAw"
   },
   "source": [
    "- Refletir sobre os dados"
   ]
  },
  {
   "cell_type": "code",
   "execution_count": null,
   "metadata": {
    "id": "hkrIUn8irzLo"
   },
   "outputs": [],
   "source": []
  }
 ],
 "metadata": {
  "colab": {
   "authorship_tag": "ABX9TyNhPYAV2PAMadJ0JMi6VSd3",
   "collapsed_sections": [
    "4WvjXSRdYGhO",
    "2aRV24TUoP-x",
    "UjA4HUPpldPt",
    "-K6HND6Wln_e",
    "8pzw74Os8SkR",
    "fyZnQ7Or9wrx",
    "AphKYS4GRTt2",
    "n1ltNKcpqs2j",
    "U6_9yZc7uke2",
    "TH2c8orLftEh",
    "I6m7nr12hYqU",
    "iMe2kZ6LkZ9b",
    "A8hWglecky9t",
    "2NPeFTzBFPra",
    "cfFpo3gfVX3i",
    "KSe4OTLsFRIt",
    "JNMejRQCuNLq",
    "k_pSMUPseeAY"
   ],
   "provenance": []
  },
  "kernelspec": {
   "display_name": "Python 3 (ipykernel)",
   "language": "python",
   "name": "python3"
  },
  "language_info": {
   "codemirror_mode": {
    "name": "ipython",
    "version": 3
   },
   "file_extension": ".py",
   "mimetype": "text/x-python",
   "name": "python",
   "nbconvert_exporter": "python",
   "pygments_lexer": "ipython3",
   "version": "3.10.12"
  }
 },
 "nbformat": 4,
 "nbformat_minor": 4
}
